{
 "cells": [
  {
   "cell_type": "code",
   "execution_count": 1,
   "metadata": {},
   "outputs": [],
   "source": [
    "import pandas as pd\n",
    "import numpy as np\n",
    "import matplotlib.pyplot as plt\n",
    "from collections import Counter\n",
    "import seaborn as sns\n",
    "from sklearn.decomposition import NMF\n",
    "import math as Math"
   ]
  },
  {
   "cell_type": "markdown",
   "metadata": {},
   "source": [
    "# Exercise 1: Recommender Dataset"
   ]
  },
  {
   "cell_type": "code",
   "execution_count": 2,
   "metadata": {},
   "outputs": [
    {
     "data": {
      "text/html": [
       "<div>\n",
       "<style scoped>\n",
       "    .dataframe tbody tr th:only-of-type {\n",
       "        vertical-align: middle;\n",
       "    }\n",
       "\n",
       "    .dataframe tbody tr th {\n",
       "        vertical-align: top;\n",
       "    }\n",
       "\n",
       "    .dataframe thead th {\n",
       "        text-align: right;\n",
       "    }\n",
       "</style>\n",
       "<table border=\"1\" class=\"dataframe\">\n",
       "  <thead>\n",
       "    <tr style=\"text-align: right;\">\n",
       "      <th></th>\n",
       "      <th>userId</th>\n",
       "      <th>itemId</th>\n",
       "      <th>rating</th>\n",
       "      <th>timestamp</th>\n",
       "    </tr>\n",
       "  </thead>\n",
       "  <tbody>\n",
       "    <tr>\n",
       "      <th>0</th>\n",
       "      <td>196</td>\n",
       "      <td>242</td>\n",
       "      <td>3</td>\n",
       "      <td>881250949</td>\n",
       "    </tr>\n",
       "    <tr>\n",
       "      <th>1</th>\n",
       "      <td>186</td>\n",
       "      <td>302</td>\n",
       "      <td>3</td>\n",
       "      <td>891717742</td>\n",
       "    </tr>\n",
       "    <tr>\n",
       "      <th>2</th>\n",
       "      <td>22</td>\n",
       "      <td>377</td>\n",
       "      <td>1</td>\n",
       "      <td>878887116</td>\n",
       "    </tr>\n",
       "    <tr>\n",
       "      <th>3</th>\n",
       "      <td>244</td>\n",
       "      <td>51</td>\n",
       "      <td>2</td>\n",
       "      <td>880606923</td>\n",
       "    </tr>\n",
       "    <tr>\n",
       "      <th>4</th>\n",
       "      <td>166</td>\n",
       "      <td>346</td>\n",
       "      <td>1</td>\n",
       "      <td>886397596</td>\n",
       "    </tr>\n",
       "  </tbody>\n",
       "</table>\n",
       "</div>"
      ],
      "text/plain": [
       "   userId  itemId  rating  timestamp\n",
       "0     196     242       3  881250949\n",
       "1     186     302       3  891717742\n",
       "2      22     377       1  878887116\n",
       "3     244      51       2  880606923\n",
       "4     166     346       1  886397596"
      ]
     },
     "execution_count": 2,
     "metadata": {},
     "output_type": "execute_result"
    }
   ],
   "source": [
    "data=pd.read_csv(r\"E:\\Documents\\University of Hildesheim\\Machine learning lab\\lab10\\ml-100k\\u.data\",sep=r\"\\s+\",\n",
    "                 names=[\"userId\",\"itemId\",\"rating\",\"timestamp\"])\n",
    "data.head()"
   ]
  },
  {
   "cell_type": "markdown",
   "metadata": {},
   "source": [
    "### Encoding female as 1 and male as 0"
   ]
  },
  {
   "cell_type": "code",
   "execution_count": 3,
   "metadata": {},
   "outputs": [
    {
     "data": {
      "text/html": [
       "<div>\n",
       "<style scoped>\n",
       "    .dataframe tbody tr th:only-of-type {\n",
       "        vertical-align: middle;\n",
       "    }\n",
       "\n",
       "    .dataframe tbody tr th {\n",
       "        vertical-align: top;\n",
       "    }\n",
       "\n",
       "    .dataframe thead th {\n",
       "        text-align: right;\n",
       "    }\n",
       "</style>\n",
       "<table border=\"1\" class=\"dataframe\">\n",
       "  <thead>\n",
       "    <tr style=\"text-align: right;\">\n",
       "      <th></th>\n",
       "      <th>userId</th>\n",
       "      <th>age</th>\n",
       "      <th>gender</th>\n",
       "      <th>occupation</th>\n",
       "      <th>zipcode</th>\n",
       "    </tr>\n",
       "  </thead>\n",
       "  <tbody>\n",
       "    <tr>\n",
       "      <th>0</th>\n",
       "      <td>1</td>\n",
       "      <td>24</td>\n",
       "      <td>0</td>\n",
       "      <td>technician</td>\n",
       "      <td>85711</td>\n",
       "    </tr>\n",
       "    <tr>\n",
       "      <th>1</th>\n",
       "      <td>2</td>\n",
       "      <td>53</td>\n",
       "      <td>1</td>\n",
       "      <td>other</td>\n",
       "      <td>94043</td>\n",
       "    </tr>\n",
       "    <tr>\n",
       "      <th>2</th>\n",
       "      <td>3</td>\n",
       "      <td>23</td>\n",
       "      <td>0</td>\n",
       "      <td>writer</td>\n",
       "      <td>32067</td>\n",
       "    </tr>\n",
       "    <tr>\n",
       "      <th>3</th>\n",
       "      <td>4</td>\n",
       "      <td>24</td>\n",
       "      <td>0</td>\n",
       "      <td>technician</td>\n",
       "      <td>43537</td>\n",
       "    </tr>\n",
       "    <tr>\n",
       "      <th>4</th>\n",
       "      <td>5</td>\n",
       "      <td>33</td>\n",
       "      <td>1</td>\n",
       "      <td>other</td>\n",
       "      <td>15213</td>\n",
       "    </tr>\n",
       "  </tbody>\n",
       "</table>\n",
       "</div>"
      ],
      "text/plain": [
       "   userId  age  gender  occupation zipcode\n",
       "0       1   24       0  technician   85711\n",
       "1       2   53       1       other   94043\n",
       "2       3   23       0      writer   32067\n",
       "3       4   24       0  technician   43537\n",
       "4       5   33       1       other   15213"
      ]
     },
     "execution_count": 3,
     "metadata": {},
     "output_type": "execute_result"
    }
   ],
   "source": [
    "userdata=pd.read_csv(r\"E:\\Documents\\University of Hildesheim\\Machine learning lab\\lab10\\ml-100k\\u.user\",\n",
    "                     names=[\"userId\",\"age\",\"gender\",\"occupation\",\"zipcode\"],sep=\"|\")\n",
    "userdata=userdata.replace(['F','M'],[1,0])\n",
    "userdata.head()"
   ]
  },
  {
   "cell_type": "code",
   "execution_count": 4,
   "metadata": {},
   "outputs": [
    {
     "data": {
      "text/html": [
       "<div>\n",
       "<style scoped>\n",
       "    .dataframe tbody tr th:only-of-type {\n",
       "        vertical-align: middle;\n",
       "    }\n",
       "\n",
       "    .dataframe tbody tr th {\n",
       "        vertical-align: top;\n",
       "    }\n",
       "\n",
       "    .dataframe thead th {\n",
       "        text-align: right;\n",
       "    }\n",
       "</style>\n",
       "<table border=\"1\" class=\"dataframe\">\n",
       "  <thead>\n",
       "    <tr style=\"text-align: right;\">\n",
       "      <th></th>\n",
       "      <th>movieid</th>\n",
       "      <th>movietitle</th>\n",
       "      <th>releasedate</th>\n",
       "      <th>videoreleasedate</th>\n",
       "      <th>IMDbURL</th>\n",
       "      <th>unknown</th>\n",
       "      <th>Action</th>\n",
       "      <th>Adventure</th>\n",
       "      <th>Animation</th>\n",
       "      <th>Children's</th>\n",
       "      <th>...</th>\n",
       "      <th>Fantasy</th>\n",
       "      <th>Film-Noir</th>\n",
       "      <th>Horror</th>\n",
       "      <th>Musical</th>\n",
       "      <th>Mystery</th>\n",
       "      <th>Romance</th>\n",
       "      <th>Sci-Fi</th>\n",
       "      <th>Thriller</th>\n",
       "      <th>War</th>\n",
       "      <th>Western</th>\n",
       "    </tr>\n",
       "  </thead>\n",
       "  <tbody>\n",
       "    <tr>\n",
       "      <th>0</th>\n",
       "      <td>1</td>\n",
       "      <td>Toy Story (1995)</td>\n",
       "      <td>01-Jan-1995</td>\n",
       "      <td>NaN</td>\n",
       "      <td>http://us.imdb.com/M/title-exact?Toy%20Story%2...</td>\n",
       "      <td>0</td>\n",
       "      <td>0</td>\n",
       "      <td>0</td>\n",
       "      <td>1</td>\n",
       "      <td>1</td>\n",
       "      <td>...</td>\n",
       "      <td>0</td>\n",
       "      <td>0</td>\n",
       "      <td>0</td>\n",
       "      <td>0</td>\n",
       "      <td>0</td>\n",
       "      <td>0</td>\n",
       "      <td>0</td>\n",
       "      <td>0</td>\n",
       "      <td>0</td>\n",
       "      <td>0</td>\n",
       "    </tr>\n",
       "    <tr>\n",
       "      <th>1</th>\n",
       "      <td>2</td>\n",
       "      <td>GoldenEye (1995)</td>\n",
       "      <td>01-Jan-1995</td>\n",
       "      <td>NaN</td>\n",
       "      <td>http://us.imdb.com/M/title-exact?GoldenEye%20(...</td>\n",
       "      <td>0</td>\n",
       "      <td>1</td>\n",
       "      <td>1</td>\n",
       "      <td>0</td>\n",
       "      <td>0</td>\n",
       "      <td>...</td>\n",
       "      <td>0</td>\n",
       "      <td>0</td>\n",
       "      <td>0</td>\n",
       "      <td>0</td>\n",
       "      <td>0</td>\n",
       "      <td>0</td>\n",
       "      <td>0</td>\n",
       "      <td>1</td>\n",
       "      <td>0</td>\n",
       "      <td>0</td>\n",
       "    </tr>\n",
       "    <tr>\n",
       "      <th>2</th>\n",
       "      <td>3</td>\n",
       "      <td>Four Rooms (1995)</td>\n",
       "      <td>01-Jan-1995</td>\n",
       "      <td>NaN</td>\n",
       "      <td>http://us.imdb.com/M/title-exact?Four%20Rooms%...</td>\n",
       "      <td>0</td>\n",
       "      <td>0</td>\n",
       "      <td>0</td>\n",
       "      <td>0</td>\n",
       "      <td>0</td>\n",
       "      <td>...</td>\n",
       "      <td>0</td>\n",
       "      <td>0</td>\n",
       "      <td>0</td>\n",
       "      <td>0</td>\n",
       "      <td>0</td>\n",
       "      <td>0</td>\n",
       "      <td>0</td>\n",
       "      <td>1</td>\n",
       "      <td>0</td>\n",
       "      <td>0</td>\n",
       "    </tr>\n",
       "    <tr>\n",
       "      <th>3</th>\n",
       "      <td>4</td>\n",
       "      <td>Get Shorty (1995)</td>\n",
       "      <td>01-Jan-1995</td>\n",
       "      <td>NaN</td>\n",
       "      <td>http://us.imdb.com/M/title-exact?Get%20Shorty%...</td>\n",
       "      <td>0</td>\n",
       "      <td>1</td>\n",
       "      <td>0</td>\n",
       "      <td>0</td>\n",
       "      <td>0</td>\n",
       "      <td>...</td>\n",
       "      <td>0</td>\n",
       "      <td>0</td>\n",
       "      <td>0</td>\n",
       "      <td>0</td>\n",
       "      <td>0</td>\n",
       "      <td>0</td>\n",
       "      <td>0</td>\n",
       "      <td>0</td>\n",
       "      <td>0</td>\n",
       "      <td>0</td>\n",
       "    </tr>\n",
       "    <tr>\n",
       "      <th>4</th>\n",
       "      <td>5</td>\n",
       "      <td>Copycat (1995)</td>\n",
       "      <td>01-Jan-1995</td>\n",
       "      <td>NaN</td>\n",
       "      <td>http://us.imdb.com/M/title-exact?Copycat%20(1995)</td>\n",
       "      <td>0</td>\n",
       "      <td>0</td>\n",
       "      <td>0</td>\n",
       "      <td>0</td>\n",
       "      <td>0</td>\n",
       "      <td>...</td>\n",
       "      <td>0</td>\n",
       "      <td>0</td>\n",
       "      <td>0</td>\n",
       "      <td>0</td>\n",
       "      <td>0</td>\n",
       "      <td>0</td>\n",
       "      <td>0</td>\n",
       "      <td>1</td>\n",
       "      <td>0</td>\n",
       "      <td>0</td>\n",
       "    </tr>\n",
       "  </tbody>\n",
       "</table>\n",
       "<p>5 rows × 24 columns</p>\n",
       "</div>"
      ],
      "text/plain": [
       "   movieid         movietitle  releasedate  videoreleasedate  \\\n",
       "0        1   Toy Story (1995)  01-Jan-1995               NaN   \n",
       "1        2   GoldenEye (1995)  01-Jan-1995               NaN   \n",
       "2        3  Four Rooms (1995)  01-Jan-1995               NaN   \n",
       "3        4  Get Shorty (1995)  01-Jan-1995               NaN   \n",
       "4        5     Copycat (1995)  01-Jan-1995               NaN   \n",
       "\n",
       "                                             IMDbURL  unknown  Action  \\\n",
       "0  http://us.imdb.com/M/title-exact?Toy%20Story%2...        0       0   \n",
       "1  http://us.imdb.com/M/title-exact?GoldenEye%20(...        0       1   \n",
       "2  http://us.imdb.com/M/title-exact?Four%20Rooms%...        0       0   \n",
       "3  http://us.imdb.com/M/title-exact?Get%20Shorty%...        0       1   \n",
       "4  http://us.imdb.com/M/title-exact?Copycat%20(1995)        0       0   \n",
       "\n",
       "   Adventure  Animation  Children's  ...  Fantasy  Film-Noir  Horror  Musical  \\\n",
       "0          0          1           1  ...        0          0       0        0   \n",
       "1          1          0           0  ...        0          0       0        0   \n",
       "2          0          0           0  ...        0          0       0        0   \n",
       "3          0          0           0  ...        0          0       0        0   \n",
       "4          0          0           0  ...        0          0       0        0   \n",
       "\n",
       "   Mystery  Romance  Sci-Fi  Thriller  War  Western  \n",
       "0        0        0       0         0    0        0  \n",
       "1        0        0       0         1    0        0  \n",
       "2        0        0       0         1    0        0  \n",
       "3        0        0       0         0    0        0  \n",
       "4        0        0       0         1    0        0  \n",
       "\n",
       "[5 rows x 24 columns]"
      ]
     },
     "execution_count": 4,
     "metadata": {},
     "output_type": "execute_result"
    }
   ],
   "source": [
    "itemdata=pd.read_csv(r\"E:\\Documents\\University of Hildesheim\\Machine learning lab\\lab10\\ml-100k\\u.item\",names=[\"movieid\", \"movietitle\",\"releasedate\",\"videoreleasedate\",\n",
    "              \"IMDbURL\",\"unknown\",\"Action\",\"Adventure\", \"Animation\",\n",
    "              \"Children's\",\"Comedy\", \"Crime\", \"Documentary\",\"Drama\",\"Fantasy\",\n",
    "              \"Film-Noir\",\"Horror\",\"Musical\", \"Mystery\",\"Romance\",\"Sci-Fi\",\n",
    "              \"Thriller\", \"War\", \"Western\"],sep=\"|\",encoding=\"ISO-8859-1\")\n",
    "itemdata.head()"
   ]
  },
  {
   "cell_type": "markdown",
   "metadata": {},
   "source": [
    "## Finding 1: After analyzing the bar plot we found out that students watch more movies than any other occupants."
   ]
  },
  {
   "cell_type": "code",
   "execution_count": 5,
   "metadata": {},
   "outputs": [
    {
     "data": {
      "image/png": "[encoded data removed]",
      "text/plain": [
       "<Figure size 432x288 with 1 Axes>"
      ]
     },
     "metadata": {
      "needs_background": "light"
     },
     "output_type": "display_data"
    }
   ],
   "source": [
    "bplot=userdata[\"occupation\"].value_counts()\n",
    "bplot=bplot.sort_index()\n",
    "bplot.plot(kind='bar')\n",
    "plt.title(\"frequency of watching movies depending on occupation\")\n",
    "plt.show()"
   ]
  },
  {
   "cell_type": "markdown",
   "metadata": {},
   "source": [
    "## Finding 2: After analyzing the barplot we can observe that the most watched movie is type drama"
   ]
  },
  {
   "cell_type": "code",
   "execution_count": 6,
   "metadata": {},
   "outputs": [
    {
     "data": {
      "image/png": "[encoded data removed]",
      "text/plain": [
       "<Figure size 432x288 with 1 Axes>"
      ]
     },
     "metadata": {
      "needs_background": "light"
     },
     "output_type": "display_data"
    }
   ],
   "source": [
    "freq_array=pd.Series()\n",
    "for column in itemdata.columns[5:]:\n",
    "    freq_array[column]=sum(itemdata[column].values)\n",
    "bplot=freq_array\n",
    "bplot.plot(kind='bar')\n",
    "plt.title(\"mosted watched movie type\")\n",
    "plt.show()"
   ]
  },
  {
   "cell_type": "markdown",
   "metadata": {},
   "source": [
    "## Finding 3: After Analyzing the histogram we can see that the highest rating is 4 for the movies"
   ]
  },
  {
   "cell_type": "code",
   "execution_count": 7,
   "metadata": {},
   "outputs": [
    {
     "data": {
      "image/png": "[encoded data removed]",
      "text/plain": [
       "<Figure size 432x288 with 1 Axes>"
      ]
     },
     "metadata": {
      "needs_background": "light"
     },
     "output_type": "display_data"
    }
   ],
   "source": [
    "data[\"rating\"].hist()\n",
    "plt.suptitle(\"Rating Histogram\")\n",
    "plt.show()"
   ]
  },
  {
   "cell_type": "markdown",
   "metadata": {},
   "source": [
    "## Finding 4: After Analyzing the histogram we can see that males watch more movies than females"
   ]
  },
  {
   "cell_type": "code",
   "execution_count": 8,
   "metadata": {},
   "outputs": [
    {
     "data": {
      "image/png": "[encoded data removed]",
      "text/plain": [
       "<Figure size 432x288 with 1 Axes>"
      ]
     },
     "metadata": {
      "needs_background": "light"
     },
     "output_type": "display_data"
    }
   ],
   "source": [
    "userdata[\"gender\"].hist()\n",
    "plt.suptitle(\"Gender Histogram\")\n",
    "plt.show()"
   ]
  },
  {
   "cell_type": "markdown",
   "metadata": {},
   "source": [
    "# Exercise 2 : Implement basic matrix factorization (MF) technique for recommender systems"
   ]
  },
  {
   "cell_type": "code",
   "execution_count": 9,
   "metadata": {},
   "outputs": [],
   "source": [
    "def Matrixfact(matrix,k,alpha,beta,epoch,sample,testsample):\n",
    "    n_users,n_items=matrix.shape\n",
    "    \n",
    "    P=pd.DataFrame(np.random.normal(scale=1./k, size=( n_users,k)),columns=[0,1],\n",
    "                   index=sample['userId'].unique())\n",
    "    Q=pd.DataFrame(np.random.normal(scale=1./k,size=( n_items,k)),columns=[0,1],\n",
    "                   index=sample['itemId'].unique())\n",
    "    user_bais=pd.DataFrame(0,columns=[0],\n",
    "                   index=sample['userId'].unique())\n",
    "    item_bais=pd.DataFrame(0,columns=[0],\n",
    "                   index=sample['itemId'].unique())\n",
    "    sample=sample.values\n",
    "    matrix=matrix.values\n",
    "    bais=np.mean(matrix[np.where(matrix!=0)])\n",
    "    \n",
    "    rmse=[]\n",
    "    for i in range(epoch):\n",
    "        np.random.shuffle(sample)\n",
    "        P,Q,user_bais,item_bais=sgd(sample,P,Q,user_bais,item_bais,bais,alpha,beta)\n",
    "        error=errorRMSE(matrix,bais,user_bais,item_bais,P,Q,testsample)\n",
    "        rmse.append(error)\n",
    "        if (i+1)%10 == 0:\n",
    "            print(\"iteration:\",i,\"error\",error)\n",
    "    return rmse,P,Q,user_bais,item_bais,bais"
   ]
  },
  {
   "cell_type": "code",
   "execution_count": 10,
   "metadata": {},
   "outputs": [],
   "source": [
    "def errorRMSE (matrix,bais,user_bais,item_bais,P,Q,testsample):\n",
    "    pred=full_matrix(bais,user_bais,item_bais,P,Q)\n",
    "    yhat,y=predict(matrix,pred,testsample)\n",
    "    return RMSE(y['rating'],yhat)"
   ]
  },
  {
   "cell_type": "code",
   "execution_count": 11,
   "metadata": {},
   "outputs": [],
   "source": [
    "def full_matrix(bais,user_bais,item_bais,P,Q):\n",
    "    user_item_bais=np.zeros((len(user_bais),len(item_bais)))\n",
    "    for i in range (0,len(user_bais)):\n",
    "        for j in range (0,len(item_bais)):\n",
    "            user_item_bais[i][j]=user_bais.iloc[i][0]+item_bais.iloc[j][0]\n",
    "    return bais + user_item_bais + P.dot(Q.T)"
   ]
  },
  {
   "cell_type": "code",
   "execution_count": 12,
   "metadata": {},
   "outputs": [],
   "source": [
    "def sgd(sample,P,Q,user_bais,item_bais,bais,alpha,beta):\n",
    "    for i,j,r in sample:\n",
    "        pred=get_rating(P,Q,i,j,user_bais,item_bais,bais)\n",
    "        e=(r-pred)\n",
    "        \n",
    "        user_bais.loc[i] += alpha * (e[0]- beta * user_bais.loc[i])\n",
    "        item_bais.loc[j] += alpha * (e[0]- beta * item_bais.loc[j])\n",
    "        \n",
    "        P.loc[i] += alpha * (e[0] * Q.loc[j]-beta * P.loc[i])\n",
    "        Q.loc[j] += alpha * (e[0] * P.loc[i]-beta * Q.loc[j])\n",
    "    \n",
    "    return P,Q,user_bais,item_bais\n",
    "        "
   ]
  },
  {
   "cell_type": "code",
   "execution_count": 13,
   "metadata": {},
   "outputs": [],
   "source": [
    "def get_rating (P,Q,user,item,user_bais,item_bais,bais):\n",
    "    pred=bais+user_bais.loc[user] + item_bais.loc[item]+P.loc[user].dot(Q.loc[item].T)\n",
    "    return pred"
   ]
  },
  {
   "cell_type": "code",
   "execution_count": 14,
   "metadata": {},
   "outputs": [],
   "source": [
    "def predict(matrix_,matrix,test):\n",
    "    yhat=[]\n",
    "    dval=[]\n",
    "    for i in range (0,len(test)):\n",
    "        flag=1\n",
    "        if(test.iloc[i]['userId'] in matrix.index):\n",
    "            if(test.iloc[i]['itemId'] in matrix.columns):\n",
    "                flag=0\n",
    "        if (flag):\n",
    "            dval.append(i)\n",
    "        else:\n",
    "            yhat.append(matrix[test.iloc[i]['itemId']][test.iloc[i]['userId']])\n",
    "    return yhat,test.drop(test.index[dval])"
   ]
  },
  {
   "cell_type": "code",
   "execution_count": 15,
   "metadata": {},
   "outputs": [],
   "source": [
    "def RMSE(y,yhat):\n",
    "    rmse =Math.sqrt(np.sum(pow((y-yhat),2))/len(y))\n",
    "    return rmse"
   ]
  },
  {
   "cell_type": "code",
   "execution_count": 16,
   "metadata": {},
   "outputs": [],
   "source": [
    "def data_k_divide(data,k):\n",
    "    k_size=Math.floor(len(data)/k)\n",
    "    k_data=[] \n",
    "    c=0\n",
    "    for i in range (0,k):\n",
    "        data_set=pd.DataFrame(data.head(0))\n",
    "        for j in range(i*k_size,(i*k_size)+k_size):\n",
    "            data_set=data_set.append(data.iloc[j])\n",
    "            c=c+1\n",
    "        k_data.append(data_set)\n",
    "        \n",
    "    #adding datas which are remaining at the end of k division\n",
    "    for j in range(c,len(data)):\n",
    "        k_data[k-1]=k_data[k-1].append(data.iloc[j])\n",
    "    return k_data\n",
    "\n",
    "def k_data_train_test(x,k):\n",
    "    k_folded_data=[]\n",
    "    for i in range(0,k):\n",
    "        x_test=x[i]\n",
    "    \n",
    "        x_train=pd.DataFrame()\n",
    "        \n",
    "        for j in range(0,k):\n",
    "            if i!=j:\n",
    "                x_train=x_train.append(x[j])\n",
    "                \n",
    "        final_data=dict([('x_train',x_train),('x_test',x_test)])\n",
    "        k_folded_data.append(final_data)\n",
    "    return k_folded_data\n",
    "    \n",
    "def kfold(x_train,k,alpha,lamda):\n",
    "    rmse=[]\n",
    "    x_train_k=data_k_divide(x_train,k)\n",
    "    kdata=k_data_train_test(x_train_k,k)\n",
    "    for i in range(0,k):\n",
    "        rMatrix=kdata[i]['x_train'].pivot(index='userId',columns='itemId',values='rating')\n",
    "        rMatrix=rMatrix.replace(np.nan,0)\n",
    "        rmsearr,P,Q,user_bais,item_bais,bais=Matrixfact(rMatrix,2,alpha,lamda,1,kdata[i]['x_train'][[\"userId\",\"itemId\",\"rating\"]],\n",
    "                                                        kdata[i]['x_test'][[\"userId\",\"itemId\",\"rating\"]])\n",
    "        rmse.append(sum(rmsearr)/len(rmsearr))\n",
    "    return sum(rmse)/k"
   ]
  },
  {
   "cell_type": "code",
   "execution_count": 17,
   "metadata": {},
   "outputs": [],
   "source": [
    "def gridsearch(alpha,lamda):\n",
    "    comb=[]\n",
    "    for i in range(0,len(alpha)):\n",
    "        for k in range(0,len(lamda)):\n",
    "            comb.append(dict([('alpha',alpha[i]),('lamda',lamda[k])]))\n",
    "    return comb"
   ]
  },
  {
   "cell_type": "code",
   "execution_count": 18,
   "metadata": {},
   "outputs": [
    {
     "name": "stdout",
     "output_type": "stream",
     "text": [
      "testrmse: 0.9866806359944896 for k values of : {'alpha': 0.1, 'lamda': 0.1}\n",
      "testrmse: 4.294415493862302e+51 for k values of : {'alpha': 0.1, 'lamda': 0.0001}\n",
      "testrmse: 1.1810406190458984 for k values of : {'alpha': 1e-07, 'lamda': 0.1}\n",
      "testrmse: 1.1812300027031035 for k values of : {'alpha': 1e-07, 'lamda': 0.0001}\n"
     ]
    }
   ],
   "source": [
    "alpha=[0.1,0.0000001]\n",
    "lamda=[0.1,0.0001]\n",
    "grid=gridsearch(alpha,lamda)\n",
    "\n",
    "for i in range (0,len(grid)):\n",
    "    rmse=kfold(data,3,grid[i][\"alpha\"],grid[i][\"lamda\"])\n",
    "    print(\"testrmse:\" ,rmse,\"for k values of :\",grid[i])"
   ]
  },
  {
   "cell_type": "markdown",
   "metadata": {},
   "source": [
    "### The best RMSE score is 0.986 for K values of : {'alpha': 0.1, 'lamda': 0.1}"
   ]
  },
  {
   "cell_type": "code",
   "execution_count": null,
   "metadata": {},
   "outputs": [],
   "source": []
  }
 ],
 "metadata": {
  "kernelspec": {
   "display_name": "Python 3",
   "language": "python",
   "name": "python3"
  },
  "language_info": {
   "codemirror_mode": {
    "name": "ipython",
    "version": 3
   },
   "file_extension": ".py",
   "mimetype": "text/x-python",
   "name": "python",
   "nbconvert_exporter": "python",
   "pygments_lexer": "ipython3",
   "version": "3.6.8"
  }
 },
 "nbformat": 4,
 "nbformat_minor": 2
}
