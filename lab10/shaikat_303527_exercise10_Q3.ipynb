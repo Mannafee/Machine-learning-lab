{
 "cells": [
  {
   "cell_type": "code",
   "execution_count": 1,
   "metadata": {},
   "outputs": [],
   "source": [
    "import pandas as pd\n",
    "import numpy as np\n",
    "import matplotlib.pyplot as plt\n",
    "from collections import Counter\n",
    "import seaborn as sns\n",
    "from sklearn.decomposition import NMF\n",
    "import math as Math"
   ]
  },
  {
   "cell_type": "code",
   "execution_count": 2,
   "metadata": {},
   "outputs": [
    {
     "data": {
      "text/html": [
       "<div>\n",
       "<style scoped>\n",
       "    .dataframe tbody tr th:only-of-type {\n",
       "        vertical-align: middle;\n",
       "    }\n",
       "\n",
       "    .dataframe tbody tr th {\n",
       "        vertical-align: top;\n",
       "    }\n",
       "\n",
       "    .dataframe thead th {\n",
       "        text-align: right;\n",
       "    }\n",
       "</style>\n",
       "<table border=\"1\" class=\"dataframe\">\n",
       "  <thead>\n",
       "    <tr style=\"text-align: right;\">\n",
       "      <th></th>\n",
       "      <th>userId</th>\n",
       "      <th>itemId</th>\n",
       "      <th>rating</th>\n",
       "      <th>timestamp</th>\n",
       "    </tr>\n",
       "  </thead>\n",
       "  <tbody>\n",
       "    <tr>\n",
       "      <th>0</th>\n",
       "      <td>196</td>\n",
       "      <td>242</td>\n",
       "      <td>3</td>\n",
       "      <td>881250949</td>\n",
       "    </tr>\n",
       "    <tr>\n",
       "      <th>1</th>\n",
       "      <td>186</td>\n",
       "      <td>302</td>\n",
       "      <td>3</td>\n",
       "      <td>891717742</td>\n",
       "    </tr>\n",
       "    <tr>\n",
       "      <th>2</th>\n",
       "      <td>22</td>\n",
       "      <td>377</td>\n",
       "      <td>1</td>\n",
       "      <td>878887116</td>\n",
       "    </tr>\n",
       "    <tr>\n",
       "      <th>3</th>\n",
       "      <td>244</td>\n",
       "      <td>51</td>\n",
       "      <td>2</td>\n",
       "      <td>880606923</td>\n",
       "    </tr>\n",
       "    <tr>\n",
       "      <th>4</th>\n",
       "      <td>166</td>\n",
       "      <td>346</td>\n",
       "      <td>1</td>\n",
       "      <td>886397596</td>\n",
       "    </tr>\n",
       "  </tbody>\n",
       "</table>\n",
       "</div>"
      ],
      "text/plain": [
       "   userId  itemId  rating  timestamp\n",
       "0     196     242       3  881250949\n",
       "1     186     302       3  891717742\n",
       "2      22     377       1  878887116\n",
       "3     244      51       2  880606923\n",
       "4     166     346       1  886397596"
      ]
     },
     "execution_count": 2,
     "metadata": {},
     "output_type": "execute_result"
    }
   ],
   "source": [
    "data=pd.read_csv(r\"E:\\Documents\\University of Hildesheim\\Machine learning lab\\lab10\\ml-100k\\u.data\",sep=r\"\\s+\",\n",
    "                 names=[\"userId\",\"itemId\",\"rating\",\"timestamp\"])\n",
    "data.head()"
   ]
  },
  {
   "cell_type": "code",
   "execution_count": 3,
   "metadata": {},
   "outputs": [],
   "source": [
    "def predict(matrix_,matrix,test):\n",
    "    yhat=[]\n",
    "    dval=[]\n",
    "    for i in range (0,len(test)):\n",
    "        flag=1\n",
    "        if(test.iloc[i]['userId'] in matrix_.index):\n",
    "            f=matrix_.index.get_loc(test.iloc[i]['userId'])\n",
    "        else:\n",
    "            f=-1\n",
    "        if(test.iloc[i]['itemId'] in matrix_.columns):\n",
    "            t=matrix_.columns.get_loc(test.iloc[i]['itemId'])\n",
    "        else:\n",
    "            t=-1\n",
    "        if(f==-1 or t==-1):\n",
    "            dval.append(i)\n",
    "        else:\n",
    "            \n",
    "            yhat.append(matrix[f][t])\n",
    "    return yhat,test.drop(test.index[dval])"
   ]
  },
  {
   "cell_type": "code",
   "execution_count": 4,
   "metadata": {},
   "outputs": [],
   "source": [
    "def RMSE(y,yhat):\n",
    "    rmse =Math.sqrt(np.sum(pow((y-yhat),2))/len(y))\n",
    "    return rmse"
   ]
  },
  {
   "cell_type": "code",
   "execution_count": 5,
   "metadata": {},
   "outputs": [],
   "source": [
    "def data_k_divide(data,k):\n",
    "    k_size=Math.floor(len(data)/k)\n",
    "    k_data=[] \n",
    "    c=0\n",
    "    for i in range (0,k):\n",
    "        data_set=pd.DataFrame(data.head(0))\n",
    "        for j in range(i*k_size,(i*k_size)+k_size):\n",
    "            data_set=data_set.append(data.iloc[j])\n",
    "            c=c+1\n",
    "        k_data.append(data_set)\n",
    "        \n",
    "    #adding datas which are remaining at the end of k division\n",
    "    for j in range(c,len(data)):\n",
    "        k_data[k-1]=k_data[k-1].append(data.iloc[j])\n",
    "    return k_data\n",
    "\n",
    "def k_data_train_test(x,k):\n",
    "    k_folded_data=[]\n",
    "    for i in range(0,k):\n",
    "        x_test=x[i]\n",
    "    \n",
    "        x_train=pd.DataFrame()\n",
    "        \n",
    "        for j in range(0,k):\n",
    "            if i!=j:\n",
    "                x_train=x_train.append(x[j])\n",
    "                \n",
    "        final_data=dict([('x_train',x_train),('x_test',x_test)])\n",
    "        k_folded_data.append(final_data)\n",
    "    return k_folded_data\n",
    "    \n",
    "def kfold(x_train,k,alpha,lamda):\n",
    "    rmse=[]\n",
    "    x_train_k=data_k_divide(x_train,k)\n",
    "    kdata=k_data_train_test(x_train_k,k)\n",
    "    for i in range(0,k):\n",
    "        rMatrix=kdata[i]['x_train'].pivot(index='userId',columns='itemId',values='rating')\n",
    "        rMatrix=rMatrix.replace(np.nan,0)\n",
    "        model = NMF(n_components=3, init='random',solver='cd',beta_loss='frobenius',alpha=alpha,l1_ratio=lamda,\n",
    "                    max_iter=200,random_state=0)\n",
    "        W = model.fit_transform(rMatrix)\n",
    "        H = model.components_\n",
    "        finalmat=W.dot(H)\n",
    "        yhat,y=predict(rMatrix,finalmat,kdata[i]['x_test'])\n",
    "        rmse.append(RMSE(y['rating'],yhat))\n",
    "    return sum(rmse)/k"
   ]
  },
  {
   "cell_type": "code",
   "execution_count": 6,
   "metadata": {},
   "outputs": [],
   "source": [
    "def gridsearch(alpha,lamda):\n",
    "    comb=[]\n",
    "    for i in range(0,len(alpha)):\n",
    "        for k in range(0,len(lamda)):\n",
    "            comb.append(dict([('alpha',alpha[i]),('lamda',lamda[k])]))\n",
    "    return comb"
   ]
  },
  {
   "cell_type": "code",
   "execution_count": 7,
   "metadata": {},
   "outputs": [
    {
     "name": "stdout",
     "output_type": "stream",
     "text": [
      "testrmse: 3.095214233411966 for k values of : {'alpha': 0.1, 'lamda': 0.1}\n",
      "testrmse: 3.095196327651466 for k values of : {'alpha': 0.1, 'lamda': 0.0001}\n",
      "testrmse: 3.095027264041237 for k values of : {'alpha': 1e-07, 'lamda': 0.1}\n",
      "testrmse: 3.095027264023562 for k values of : {'alpha': 1e-07, 'lamda': 0.0001}\n"
     ]
    }
   ],
   "source": [
    "alpha=[0.1,0.0000001]\n",
    "l1=[0.1,0.0001]\n",
    "grid=gridsearch(alpha,l1)\n",
    "rmsearr=[]\n",
    "for i in range (0,len(grid)):\n",
    "    rmse=kfold(data,3,grid[i][\"alpha\"],grid[i][\"lamda\"])\n",
    "    print(\"testrmse:\" ,rmse,\"for k values of :\",grid[i])\n",
    "    rmsearr.append(rmse)"
   ]
  },
  {
   "cell_type": "markdown",
   "metadata": {},
   "source": [
    "### The rmse score is not better than the before the local bais and global bais is not being considered in the model"
   ]
  },
  {
   "cell_type": "code",
   "execution_count": 9,
   "metadata": {},
   "outputs": [
    {
     "data": {
      "image/png": "[encoded data removed]",
      "text/plain": [
       "<Figure size 1800x720 with 1 Axes>"
      ]
     },
     "metadata": {
      "needs_background": "light"
     },
     "output_type": "display_data"
    }
   ],
   "source": [
    "fig,axs=plt.subplots(1,1,figsize=(25,10))\n",
    "fig.suptitle(\"RMSE Graph\")\n",
    "axs.plot(rmsearr)\n",
    "axs.plot(rmsearr,'o')\n",
    "plt.show()"
   ]
  },
  {
   "cell_type": "markdown",
   "metadata": {},
   "source": [
    "### After Analyzing the graph we can see that the rmse decreased "
   ]
  },
  {
   "cell_type": "code",
   "execution_count": null,
   "metadata": {},
   "outputs": [],
   "source": []
  }
 ],
 "metadata": {
  "kernelspec": {
   "display_name": "Python 3",
   "language": "python",
   "name": "python3"
  },
  "language_info": {
   "codemirror_mode": {
    "name": "ipython",
    "version": 3
   },
   "file_extension": ".py",
   "mimetype": "text/x-python",
   "name": "python",
   "nbconvert_exporter": "python",
   "pygments_lexer": "ipython3",
   "version": "3.6.8"
  }
 },
 "nbformat": 4,
 "nbformat_minor": 2
}
