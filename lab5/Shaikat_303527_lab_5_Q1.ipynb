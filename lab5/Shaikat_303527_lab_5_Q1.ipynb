{
 "cells": [
  {
   "cell_type": "markdown",
   "metadata": {},
   "source": [
    "# Preprocessing Bank Marketing dataset"
   ]
  },
  {
   "cell_type": "code",
   "execution_count": 1,
   "metadata": {},
   "outputs": [],
   "source": [
    "import pandas as pd\n",
    "import sys\n",
    "import numpy as np\n",
    "import seaborn as sns\n",
    "import matplotlib.pyplot as plt\n",
    "pd.options.mode.chained_assignment = None\n",
    "from sklearn.model_selection import train_test_split\n",
    "\n",
    "filename = r\"E:\\Documents\\University of Hildesheim\\Machine learning lab\\lab5\\bank.csv\"\n",
    "bank = pd.read_csv(filename,delimiter=';')"
   ]
  },
  {
   "cell_type": "code",
   "execution_count": 2,
   "metadata": {},
   "outputs": [
    {
     "data": {
      "text/html": [
       "<div>\n",
       "<style scoped>\n",
       "    .dataframe tbody tr th:only-of-type {\n",
       "        vertical-align: middle;\n",
       "    }\n",
       "\n",
       "    .dataframe tbody tr th {\n",
       "        vertical-align: top;\n",
       "    }\n",
       "\n",
       "    .dataframe thead th {\n",
       "        text-align: right;\n",
       "    }\n",
       "</style>\n",
       "<table border=\"1\" class=\"dataframe\">\n",
       "  <thead>\n",
       "    <tr style=\"text-align: right;\">\n",
       "      <th></th>\n",
       "      <th>age</th>\n",
       "      <th>job</th>\n",
       "      <th>marital</th>\n",
       "      <th>education</th>\n",
       "      <th>default</th>\n",
       "      <th>balance</th>\n",
       "      <th>housing</th>\n",
       "      <th>loan</th>\n",
       "      <th>contact</th>\n",
       "      <th>day</th>\n",
       "      <th>month</th>\n",
       "      <th>duration</th>\n",
       "      <th>campaign</th>\n",
       "      <th>pdays</th>\n",
       "      <th>previous</th>\n",
       "      <th>poutcome</th>\n",
       "      <th>y</th>\n",
       "    </tr>\n",
       "  </thead>\n",
       "  <tbody>\n",
       "    <tr>\n",
       "      <th>0</th>\n",
       "      <td>30</td>\n",
       "      <td>unemployed</td>\n",
       "      <td>married</td>\n",
       "      <td>primary</td>\n",
       "      <td>no</td>\n",
       "      <td>1787</td>\n",
       "      <td>no</td>\n",
       "      <td>no</td>\n",
       "      <td>cellular</td>\n",
       "      <td>19</td>\n",
       "      <td>oct</td>\n",
       "      <td>79</td>\n",
       "      <td>1</td>\n",
       "      <td>-1</td>\n",
       "      <td>0</td>\n",
       "      <td>unknown</td>\n",
       "      <td>no</td>\n",
       "    </tr>\n",
       "    <tr>\n",
       "      <th>1</th>\n",
       "      <td>33</td>\n",
       "      <td>services</td>\n",
       "      <td>married</td>\n",
       "      <td>secondary</td>\n",
       "      <td>no</td>\n",
       "      <td>4789</td>\n",
       "      <td>yes</td>\n",
       "      <td>yes</td>\n",
       "      <td>cellular</td>\n",
       "      <td>11</td>\n",
       "      <td>may</td>\n",
       "      <td>220</td>\n",
       "      <td>1</td>\n",
       "      <td>339</td>\n",
       "      <td>4</td>\n",
       "      <td>failure</td>\n",
       "      <td>no</td>\n",
       "    </tr>\n",
       "    <tr>\n",
       "      <th>2</th>\n",
       "      <td>35</td>\n",
       "      <td>management</td>\n",
       "      <td>single</td>\n",
       "      <td>tertiary</td>\n",
       "      <td>no</td>\n",
       "      <td>1350</td>\n",
       "      <td>yes</td>\n",
       "      <td>no</td>\n",
       "      <td>cellular</td>\n",
       "      <td>16</td>\n",
       "      <td>apr</td>\n",
       "      <td>185</td>\n",
       "      <td>1</td>\n",
       "      <td>330</td>\n",
       "      <td>1</td>\n",
       "      <td>failure</td>\n",
       "      <td>no</td>\n",
       "    </tr>\n",
       "    <tr>\n",
       "      <th>3</th>\n",
       "      <td>30</td>\n",
       "      <td>management</td>\n",
       "      <td>married</td>\n",
       "      <td>tertiary</td>\n",
       "      <td>no</td>\n",
       "      <td>1476</td>\n",
       "      <td>yes</td>\n",
       "      <td>yes</td>\n",
       "      <td>unknown</td>\n",
       "      <td>3</td>\n",
       "      <td>jun</td>\n",
       "      <td>199</td>\n",
       "      <td>4</td>\n",
       "      <td>-1</td>\n",
       "      <td>0</td>\n",
       "      <td>unknown</td>\n",
       "      <td>no</td>\n",
       "    </tr>\n",
       "    <tr>\n",
       "      <th>4</th>\n",
       "      <td>59</td>\n",
       "      <td>blue-collar</td>\n",
       "      <td>married</td>\n",
       "      <td>secondary</td>\n",
       "      <td>no</td>\n",
       "      <td>0</td>\n",
       "      <td>yes</td>\n",
       "      <td>no</td>\n",
       "      <td>unknown</td>\n",
       "      <td>5</td>\n",
       "      <td>may</td>\n",
       "      <td>226</td>\n",
       "      <td>1</td>\n",
       "      <td>-1</td>\n",
       "      <td>0</td>\n",
       "      <td>unknown</td>\n",
       "      <td>no</td>\n",
       "    </tr>\n",
       "  </tbody>\n",
       "</table>\n",
       "</div>"
      ],
      "text/plain": [
       "   age          job  marital  education default  balance housing loan  \\\n",
       "0   30   unemployed  married    primary      no     1787      no   no   \n",
       "1   33     services  married  secondary      no     4789     yes  yes   \n",
       "2   35   management   single   tertiary      no     1350     yes   no   \n",
       "3   30   management  married   tertiary      no     1476     yes  yes   \n",
       "4   59  blue-collar  married  secondary      no        0     yes   no   \n",
       "\n",
       "    contact  day month  duration  campaign  pdays  previous poutcome   y  \n",
       "0  cellular   19   oct        79         1     -1         0  unknown  no  \n",
       "1  cellular   11   may       220         1    339         4  failure  no  \n",
       "2  cellular   16   apr       185         1    330         1  failure  no  \n",
       "3   unknown    3   jun       199         4     -1         0  unknown  no  \n",
       "4   unknown    5   may       226         1     -1         0  unknown  no  "
      ]
     },
     "execution_count": 2,
     "metadata": {},
     "output_type": "execute_result"
    }
   ],
   "source": [
    "bank.head(5)"
   ]
  },
  {
   "cell_type": "code",
   "execution_count": 3,
   "metadata": {},
   "outputs": [
    {
     "name": "stdout",
     "output_type": "stream",
     "text": [
      "<class 'pandas.core.frame.DataFrame'>\n",
      "RangeIndex: 4521 entries, 0 to 4520\n",
      "Data columns (total 17 columns):\n",
      "age          4521 non-null int64\n",
      "job          4521 non-null object\n",
      "marital      4521 non-null object\n",
      "education    4521 non-null object\n",
      "default      4521 non-null object\n",
      "balance      4521 non-null int64\n",
      "housing      4521 non-null object\n",
      "loan         4521 non-null object\n",
      "contact      4521 non-null object\n",
      "day          4521 non-null int64\n",
      "month        4521 non-null object\n",
      "duration     4521 non-null int64\n",
      "campaign     4521 non-null int64\n",
      "pdays        4521 non-null int64\n",
      "previous     4521 non-null int64\n",
      "poutcome     4521 non-null object\n",
      "y            4521 non-null object\n",
      "dtypes: int64(7), object(10)\n",
      "memory usage: 600.5+ KB\n"
     ]
    }
   ],
   "source": [
    "bank.info()"
   ]
  },
  {
   "cell_type": "markdown",
   "metadata": {},
   "source": [
    "### Removing all NA values from the dataset"
   ]
  },
  {
   "cell_type": "code",
   "execution_count": 4,
   "metadata": {},
   "outputs": [],
   "source": [
    "bank.dropna(inplace=True)"
   ]
  },
  {
   "cell_type": "markdown",
   "metadata": {},
   "source": [
    "### Converting non-numeric values to numeric values using categorical encoding "
   ]
  },
  {
   "cell_type": "code",
   "execution_count": 5,
   "metadata": {},
   "outputs": [],
   "source": [
    "col=['job','marital','education','default','housing','loan','month','contact','duration','poutcome','y']\n",
    "bank[col] = bank[col].astype('category')"
   ]
  },
  {
   "cell_type": "markdown",
   "metadata": {},
   "source": [
    "What can be experimented with is a simple categorical encoding, wherein each unique entry is assigned it's own number. Pandas does with relative ease by assigning desired object columns to a category dtype"
   ]
  },
  {
   "cell_type": "code",
   "execution_count": 6,
   "metadata": {},
   "outputs": [
    {
     "data": {
      "text/plain": [
       "age             int64\n",
       "job          category\n",
       "marital      category\n",
       "education    category\n",
       "default      category\n",
       "balance         int64\n",
       "housing      category\n",
       "loan         category\n",
       "contact      category\n",
       "day             int64\n",
       "month        category\n",
       "duration     category\n",
       "campaign        int64\n",
       "pdays           int64\n",
       "previous        int64\n",
       "poutcome     category\n",
       "y            category\n",
       "dtype: object"
      ]
     },
     "execution_count": 6,
     "metadata": {},
     "output_type": "execute_result"
    }
   ],
   "source": [
    "bank.dtypes"
   ]
  },
  {
   "cell_type": "markdown",
   "metadata": {},
   "source": [
    "### Encoding the category column with unique values"
   ]
  },
  {
   "cell_type": "code",
   "execution_count": 7,
   "metadata": {},
   "outputs": [],
   "source": [
    "bank_enc = bank.apply(lambda x: x.cat.codes if x.dtype.name == 'category' else x)"
   ]
  },
  {
   "cell_type": "markdown",
   "metadata": {},
   "source": [
    "It is shown that each categorical values has its unique values"
   ]
  },
  {
   "cell_type": "code",
   "execution_count": 8,
   "metadata": {},
   "outputs": [
    {
     "data": {
      "text/html": [
       "<div>\n",
       "<style scoped>\n",
       "    .dataframe tbody tr th:only-of-type {\n",
       "        vertical-align: middle;\n",
       "    }\n",
       "\n",
       "    .dataframe tbody tr th {\n",
       "        vertical-align: top;\n",
       "    }\n",
       "\n",
       "    .dataframe thead th {\n",
       "        text-align: right;\n",
       "    }\n",
       "</style>\n",
       "<table border=\"1\" class=\"dataframe\">\n",
       "  <thead>\n",
       "    <tr style=\"text-align: right;\">\n",
       "      <th></th>\n",
       "      <th>age</th>\n",
       "      <th>job</th>\n",
       "      <th>marital</th>\n",
       "      <th>education</th>\n",
       "      <th>default</th>\n",
       "      <th>balance</th>\n",
       "      <th>housing</th>\n",
       "      <th>loan</th>\n",
       "      <th>contact</th>\n",
       "      <th>day</th>\n",
       "      <th>month</th>\n",
       "      <th>duration</th>\n",
       "      <th>campaign</th>\n",
       "      <th>pdays</th>\n",
       "      <th>previous</th>\n",
       "      <th>poutcome</th>\n",
       "      <th>y</th>\n",
       "    </tr>\n",
       "  </thead>\n",
       "  <tbody>\n",
       "    <tr>\n",
       "      <th>0</th>\n",
       "      <td>30</td>\n",
       "      <td>10</td>\n",
       "      <td>1</td>\n",
       "      <td>0</td>\n",
       "      <td>0</td>\n",
       "      <td>1787</td>\n",
       "      <td>0</td>\n",
       "      <td>0</td>\n",
       "      <td>0</td>\n",
       "      <td>19</td>\n",
       "      <td>10</td>\n",
       "      <td>75</td>\n",
       "      <td>1</td>\n",
       "      <td>-1</td>\n",
       "      <td>0</td>\n",
       "      <td>3</td>\n",
       "      <td>0</td>\n",
       "    </tr>\n",
       "    <tr>\n",
       "      <th>1</th>\n",
       "      <td>33</td>\n",
       "      <td>7</td>\n",
       "      <td>1</td>\n",
       "      <td>1</td>\n",
       "      <td>0</td>\n",
       "      <td>4789</td>\n",
       "      <td>1</td>\n",
       "      <td>1</td>\n",
       "      <td>0</td>\n",
       "      <td>11</td>\n",
       "      <td>8</td>\n",
       "      <td>216</td>\n",
       "      <td>1</td>\n",
       "      <td>339</td>\n",
       "      <td>4</td>\n",
       "      <td>0</td>\n",
       "      <td>0</td>\n",
       "    </tr>\n",
       "    <tr>\n",
       "      <th>2</th>\n",
       "      <td>35</td>\n",
       "      <td>4</td>\n",
       "      <td>2</td>\n",
       "      <td>2</td>\n",
       "      <td>0</td>\n",
       "      <td>1350</td>\n",
       "      <td>1</td>\n",
       "      <td>0</td>\n",
       "      <td>0</td>\n",
       "      <td>16</td>\n",
       "      <td>0</td>\n",
       "      <td>181</td>\n",
       "      <td>1</td>\n",
       "      <td>330</td>\n",
       "      <td>1</td>\n",
       "      <td>0</td>\n",
       "      <td>0</td>\n",
       "    </tr>\n",
       "  </tbody>\n",
       "</table>\n",
       "</div>"
      ],
      "text/plain": [
       "   age  job  marital  education  default  balance  housing  loan  contact  \\\n",
       "0   30   10        1          0        0     1787        0     0        0   \n",
       "1   33    7        1          1        0     4789        1     1        0   \n",
       "2   35    4        2          2        0     1350        1     0        0   \n",
       "\n",
       "   day  month  duration  campaign  pdays  previous  poutcome  y  \n",
       "0   19     10        75         1     -1         0         3  0  \n",
       "1   11      8       216         1    339         4         0  0  \n",
       "2   16      0       181         1    330         1         0  0  "
      ]
     },
     "execution_count": 8,
     "metadata": {},
     "output_type": "execute_result"
    }
   ],
   "source": [
    "bank_enc.head(3)"
   ]
  },
  {
   "cell_type": "markdown",
   "metadata": {},
   "source": [
    "### Splitting the data into train (0.8) and test (0.2) set "
   ]
  },
  {
   "cell_type": "code",
   "execution_count": 381,
   "metadata": {},
   "outputs": [],
   "source": [
    "Ydata_bank = bank_enc['y'] \n",
    "Xdata_bank = bank_enc.loc[:,bank_enc.columns!='y']\n",
    "Xdata_bank = (Xdata_bank - Xdata_bank.mean())/Xdata_bank.std() #data normalized\n",
    "\n",
    "x_train_bank, x_test_bank, y_train_bank, y_test_bank =train_test_split(Xdata_bank, \n",
    "                                                                       Ydata_bank,train_size=0.8, \n",
    "                                                                       test_size=0.2, \n",
    "                                                                       random_state=0)"
   ]
  },
  {
   "cell_type": "code",
   "execution_count": 383,
   "metadata": {},
   "outputs": [],
   "source": [
    "y_train_bank=y_train_bank.values.reshape(-1,1)\n",
    "y_test_bank=y_test_bank.values.reshape(-1,1)\n",
    "x_train_bank=x_train_bank.values\n",
    "x_test_bank=x_test_bank.values"
   ]
  },
  {
   "cell_type": "markdown",
   "metadata": {},
   "source": [
    "# Preprocessing wine quality-red data"
   ]
  },
  {
   "cell_type": "code",
   "execution_count": 221,
   "metadata": {},
   "outputs": [
    {
     "data": {
      "text/html": [
       "<div>\n",
       "<style scoped>\n",
       "    .dataframe tbody tr th:only-of-type {\n",
       "        vertical-align: middle;\n",
       "    }\n",
       "\n",
       "    .dataframe tbody tr th {\n",
       "        vertical-align: top;\n",
       "    }\n",
       "\n",
       "    .dataframe thead th {\n",
       "        text-align: right;\n",
       "    }\n",
       "</style>\n",
       "<table border=\"1\" class=\"dataframe\">\n",
       "  <thead>\n",
       "    <tr style=\"text-align: right;\">\n",
       "      <th></th>\n",
       "      <th>fixed acidity</th>\n",
       "      <th>volatile acidity</th>\n",
       "      <th>citric acid</th>\n",
       "      <th>residual sugar</th>\n",
       "      <th>chlorides</th>\n",
       "      <th>free sulfur dioxide</th>\n",
       "      <th>total sulfur dioxide</th>\n",
       "      <th>density</th>\n",
       "      <th>pH</th>\n",
       "      <th>sulphates</th>\n",
       "      <th>alcohol</th>\n",
       "      <th>quality</th>\n",
       "    </tr>\n",
       "  </thead>\n",
       "  <tbody>\n",
       "    <tr>\n",
       "      <th>0</th>\n",
       "      <td>7.4</td>\n",
       "      <td>0.70</td>\n",
       "      <td>0.00</td>\n",
       "      <td>1.9</td>\n",
       "      <td>0.076</td>\n",
       "      <td>11.0</td>\n",
       "      <td>34.0</td>\n",
       "      <td>0.9978</td>\n",
       "      <td>3.51</td>\n",
       "      <td>0.56</td>\n",
       "      <td>9.4</td>\n",
       "      <td>5</td>\n",
       "    </tr>\n",
       "    <tr>\n",
       "      <th>1</th>\n",
       "      <td>7.8</td>\n",
       "      <td>0.88</td>\n",
       "      <td>0.00</td>\n",
       "      <td>2.6</td>\n",
       "      <td>0.098</td>\n",
       "      <td>25.0</td>\n",
       "      <td>67.0</td>\n",
       "      <td>0.9968</td>\n",
       "      <td>3.20</td>\n",
       "      <td>0.68</td>\n",
       "      <td>9.8</td>\n",
       "      <td>5</td>\n",
       "    </tr>\n",
       "    <tr>\n",
       "      <th>2</th>\n",
       "      <td>7.8</td>\n",
       "      <td>0.76</td>\n",
       "      <td>0.04</td>\n",
       "      <td>2.3</td>\n",
       "      <td>0.092</td>\n",
       "      <td>15.0</td>\n",
       "      <td>54.0</td>\n",
       "      <td>0.9970</td>\n",
       "      <td>3.26</td>\n",
       "      <td>0.65</td>\n",
       "      <td>9.8</td>\n",
       "      <td>5</td>\n",
       "    </tr>\n",
       "  </tbody>\n",
       "</table>\n",
       "</div>"
      ],
      "text/plain": [
       "   fixed acidity  volatile acidity  citric acid  residual sugar  chlorides  \\\n",
       "0            7.4              0.70         0.00             1.9      0.076   \n",
       "1            7.8              0.88         0.00             2.6      0.098   \n",
       "2            7.8              0.76         0.04             2.3      0.092   \n",
       "\n",
       "   free sulfur dioxide  total sulfur dioxide  density    pH  sulphates  \\\n",
       "0                 11.0                  34.0   0.9978  3.51       0.56   \n",
       "1                 25.0                  67.0   0.9968  3.20       0.68   \n",
       "2                 15.0                  54.0   0.9970  3.26       0.65   \n",
       "\n",
       "   alcohol  quality  \n",
       "0      9.4        5  \n",
       "1      9.8        5  \n",
       "2      9.8        5  "
      ]
     },
     "execution_count": 221,
     "metadata": {},
     "output_type": "execute_result"
    }
   ],
   "source": [
    "filename=r\"E:\\Documents\\University of Hildesheim\\Machine learning lab\\lab5\\winequality-red.csv\"\n",
    "rwine_data = pd.read_csv(filename,delimiter=';')\n",
    "rwine_data.head(3)"
   ]
  },
  {
   "cell_type": "markdown",
   "metadata": {},
   "source": [
    "The data has no numeric values"
   ]
  },
  {
   "cell_type": "code",
   "execution_count": 222,
   "metadata": {},
   "outputs": [
    {
     "name": "stdout",
     "output_type": "stream",
     "text": [
      "<class 'pandas.core.frame.DataFrame'>\n",
      "RangeIndex: 1599 entries, 0 to 1598\n",
      "Data columns (total 12 columns):\n",
      "fixed acidity           1599 non-null float64\n",
      "volatile acidity        1599 non-null float64\n",
      "citric acid             1599 non-null float64\n",
      "residual sugar          1599 non-null float64\n",
      "chlorides               1599 non-null float64\n",
      "free sulfur dioxide     1599 non-null float64\n",
      "total sulfur dioxide    1599 non-null float64\n",
      "density                 1599 non-null float64\n",
      "pH                      1599 non-null float64\n",
      "sulphates               1599 non-null float64\n",
      "alcohol                 1599 non-null float64\n",
      "quality                 1599 non-null int64\n",
      "dtypes: float64(11), int64(1)\n",
      "memory usage: 150.0 KB\n"
     ]
    }
   ],
   "source": [
    "rwine_data.info()"
   ]
  },
  {
   "cell_type": "code",
   "execution_count": 255,
   "metadata": {},
   "outputs": [],
   "source": [
    "Xdata_rwine = rwine_data.loc[:,rwine_data.columns!='quality']\n",
    "Ydata_rwine = rwine_data[['quality']]\n",
    "Xdata_rwine = (Xdata_rwine - Xdata_rwine.mean())/Xdata_rwine.std() #data normalized\n",
    "x_train_rwine, x_test_rwine, y_train_rwine, y_test_rwine =train_test_split(Xdata_rwine, \n",
    "                                                                       Ydata_rwine,train_size=0.8, \n",
    "                                                                       test_size=0.2, \n",
    "                                                                       random_state=0)"
   ]
  },
  {
   "cell_type": "code",
   "execution_count": 256,
   "metadata": {},
   "outputs": [],
   "source": [
    "y_train_rwine=y_train_rwine.values.reshape(-1,1)\n",
    "y_test_rwine=y_test_rwine.values.reshape(-1,1)\n",
    "x_train_rwine=x_train_rwine.values\n",
    "x_test_rwine=x_test_rwine.values"
   ]
  },
  {
   "cell_type": "markdown",
   "metadata": {},
   "source": [
    "# Preprocessing wine quality white data"
   ]
  },
  {
   "cell_type": "code",
   "execution_count": 257,
   "metadata": {},
   "outputs": [
    {
     "data": {
      "text/html": [
       "<div>\n",
       "<style scoped>\n",
       "    .dataframe tbody tr th:only-of-type {\n",
       "        vertical-align: middle;\n",
       "    }\n",
       "\n",
       "    .dataframe tbody tr th {\n",
       "        vertical-align: top;\n",
       "    }\n",
       "\n",
       "    .dataframe thead th {\n",
       "        text-align: right;\n",
       "    }\n",
       "</style>\n",
       "<table border=\"1\" class=\"dataframe\">\n",
       "  <thead>\n",
       "    <tr style=\"text-align: right;\">\n",
       "      <th></th>\n",
       "      <th>fixed acidity</th>\n",
       "      <th>volatile acidity</th>\n",
       "      <th>citric acid</th>\n",
       "      <th>residual sugar</th>\n",
       "      <th>chlorides</th>\n",
       "      <th>free sulfur dioxide</th>\n",
       "      <th>total sulfur dioxide</th>\n",
       "      <th>density</th>\n",
       "      <th>pH</th>\n",
       "      <th>sulphates</th>\n",
       "      <th>alcohol</th>\n",
       "      <th>quality</th>\n",
       "    </tr>\n",
       "  </thead>\n",
       "  <tbody>\n",
       "    <tr>\n",
       "      <th>0</th>\n",
       "      <td>7.0</td>\n",
       "      <td>0.27</td>\n",
       "      <td>0.36</td>\n",
       "      <td>20.7</td>\n",
       "      <td>0.045</td>\n",
       "      <td>45.0</td>\n",
       "      <td>170.0</td>\n",
       "      <td>1.0010</td>\n",
       "      <td>3.00</td>\n",
       "      <td>0.45</td>\n",
       "      <td>8.8</td>\n",
       "      <td>6</td>\n",
       "    </tr>\n",
       "    <tr>\n",
       "      <th>1</th>\n",
       "      <td>6.3</td>\n",
       "      <td>0.30</td>\n",
       "      <td>0.34</td>\n",
       "      <td>1.6</td>\n",
       "      <td>0.049</td>\n",
       "      <td>14.0</td>\n",
       "      <td>132.0</td>\n",
       "      <td>0.9940</td>\n",
       "      <td>3.30</td>\n",
       "      <td>0.49</td>\n",
       "      <td>9.5</td>\n",
       "      <td>6</td>\n",
       "    </tr>\n",
       "    <tr>\n",
       "      <th>2</th>\n",
       "      <td>8.1</td>\n",
       "      <td>0.28</td>\n",
       "      <td>0.40</td>\n",
       "      <td>6.9</td>\n",
       "      <td>0.050</td>\n",
       "      <td>30.0</td>\n",
       "      <td>97.0</td>\n",
       "      <td>0.9951</td>\n",
       "      <td>3.26</td>\n",
       "      <td>0.44</td>\n",
       "      <td>10.1</td>\n",
       "      <td>6</td>\n",
       "    </tr>\n",
       "  </tbody>\n",
       "</table>\n",
       "</div>"
      ],
      "text/plain": [
       "   fixed acidity  volatile acidity  citric acid  residual sugar  chlorides  \\\n",
       "0            7.0              0.27         0.36            20.7      0.045   \n",
       "1            6.3              0.30         0.34             1.6      0.049   \n",
       "2            8.1              0.28         0.40             6.9      0.050   \n",
       "\n",
       "   free sulfur dioxide  total sulfur dioxide  density    pH  sulphates  \\\n",
       "0                 45.0                 170.0   1.0010  3.00       0.45   \n",
       "1                 14.0                 132.0   0.9940  3.30       0.49   \n",
       "2                 30.0                  97.0   0.9951  3.26       0.44   \n",
       "\n",
       "   alcohol  quality  \n",
       "0      8.8        6  \n",
       "1      9.5        6  \n",
       "2     10.1        6  "
      ]
     },
     "execution_count": 257,
     "metadata": {},
     "output_type": "execute_result"
    }
   ],
   "source": [
    "filename=r\"E:\\Documents\\University of Hildesheim\\Machine learning lab\\lab5\\winequality-white.csv\"\n",
    "wwine_data = pd.read_csv(filename,delimiter=';')\n",
    "wwine_data.head(3)"
   ]
  },
  {
   "cell_type": "code",
   "execution_count": 259,
   "metadata": {},
   "outputs": [],
   "source": [
    "\n",
    "Xdata_wwine = wwine_data.loc[:,wwine_data.columns!='quality']\n",
    "Ydata_wwine = wwine_data['quality']\n",
    "Xdata_wwine = (Xdata_wwine - Xdata_wwine.mean())/Xdata_wwine.std() #data normalized\n",
    "\n",
    "x_train_wwine, x_test_wwine, y_train_wwine, y_test_wwine =train_test_split(Xdata_wwine, \n",
    "                                                                       Ydata_wwine,train_size=0.8, \n",
    "                                                                       test_size=0.2, \n",
    "                                                                       random_state=0)"
   ]
  },
  {
   "cell_type": "code",
   "execution_count": 260,
   "metadata": {},
   "outputs": [],
   "source": [
    "y_train_wwine=y_train_wwine.values.reshape(-1,1)\n",
    "y_test_wwine=y_test_wwine.values.reshape(-1,1)\n",
    "x_train_wwine=x_train_wwine.values\n",
    "x_test_wwine=x_test_wwine.values"
   ]
  },
  {
   "cell_type": "markdown",
   "metadata": {},
   "source": [
    "# Ridge Regression using mini-Batch Gradient Descent"
   ]
  },
  {
   "cell_type": "code",
   "execution_count": 360,
   "metadata": {},
   "outputs": [],
   "source": [
    "def logistic_function(X, beta):\n",
    "    z = np.dot(X,beta)\n",
    "    return 1 / (1 + np.exp(-z))\n",
    "\n",
    "def log_likelihood(x, y, beta):\n",
    "    z = np.dot(x, beta)\n",
    "    log = np.sum( y*z - np.log(1 + np.exp(z)) )\n",
    "    return log\n",
    "\n",
    "betas = lambda x,y,beta,alpha,lamda : beta-alpha*(-2*np.dot(x.T,y-logistic_function(x, beta))+(2*lamda)*beta)\n",
    "rmse  = lambda y,ypred: np.sqrt(np.mean((y-ypred)**2))\n",
    "cost  = lambda y,ypred: np.mean((y - ypred)**2)"
   ]
  },
  {
   "cell_type": "code",
   "execution_count": 424,
   "metadata": {},
   "outputs": [],
   "source": [
    "def stochastic_gradient_descent(x_train,y_train,alpha,epochs,lamda,x_test,y_test):\n",
    "    m_train,n_features = np.shape(x_train)\n",
    "    ini_alpha          = alpha\n",
    "    beta_hat           = np.random.random(n_features).reshape(-1,1)\n",
    "    rmsetrain          = []\n",
    "    rmsetest           = []\n",
    "    relative_loss      = []\n",
    "    y_hat              = logistic_function(x_train,beta_hat)\n",
    "    \n",
    "    chunk_size = 50\n",
    "    for i in range(epochs):\n",
    "        loss_old  = cost(y_train,y_hat)\n",
    "        for chunk in range(len(x_train)//chunk_size):\n",
    "            x_chunk  = x_train[chunk*chunk_size:min((chunk+1)*chunk_size,len(x_train))]\n",
    "            y_chunk  = y_train[chunk*chunk_size:min((chunk+1)*chunk_size,len(y_train))]\n",
    "            \n",
    "            beta_hat = betas(x_chunk,y_chunk,beta_hat,alpha,lamda)\n",
    "        \n",
    "        y_hat=logistic_function(x_train,beta_hat)\n",
    "        loss_new  = cost(y_train,y_hat)\n",
    "        \n",
    "        rmsetest.append(rmse(y_test,logistic_function(x_test,beta_hat)))\n",
    "        rmsetrain.append(rmse(y_train,logistic_function(x_train,beta_hat)))\n",
    "        relative_loss.append(np.abs(loss_new-loss_old))\n",
    "        \n",
    "        if i % 10 == 0:\n",
    "            print(f\"epochs: {i} loss: {np.abs(loss_new-loss_old)} rmse test: {rmse(y_test,logistic_function(x_test,beta_hat))} rmse train: {rmse(y_train,logistic_function(x_train,beta_hat))} learn rate:{alpha} lamda:{lamda}\")\n",
    "        if (np.abs(loss_new-loss_old))==0:\n",
    "            break\n",
    "    \n",
    "    plt.plot(np.arange(len(rmsetrain)),rmsetrain,'g',label='rmse_train')\n",
    "    plt.plot(np.arange(len(rmsetest)),rmsetest,'r',label='rmse_test')\n",
    "    plt.xlabel(\"epochs\")\n",
    "    plt.ylabel(\"RMSE\")\n",
    "    plt.legend()\n",
    "    plt.show()\n",
    "    \n",
    "    \n",
    "    plt.xlabel(\"epochs\")\n",
    "    plt.ylabel(\"RMSE\")\n",
    "    rmsetest=[x*-1 for x in rmsetest]\n",
    "    plt.plot(np.arange(len(rmsetest)),rmsetest,'r',label='rmse_neg_test')\n",
    "    plt.plot(np.arange(len(rmsetrain)),rmsetrain,'g',label='rmse_train')\n",
    "    plt.legend()\n",
    "    plt.show()\n",
    "    \n",
    "    return rmsetest,rmsetrain\n",
    "    "
   ]
  },
  {
   "cell_type": "markdown",
   "metadata": {},
   "source": [
    "# Ridge Regression using mini-Batch Gradient Descent using the Bank Marketing dataset\n",
    "\n",
    "Training the bank marketing data and plotting the rmse values for three combinations of alpha and lamda values"
   ]
  },
  {
   "cell_type": "markdown",
   "metadata": {},
   "source": [
    "### The first two combinations of Alpha(lr) and lamda displayed an optimal result where we can see the rmsetrain and rmsetest is almost similar"
   ]
  },
  {
   "cell_type": "code",
   "execution_count": 363,
   "metadata": {},
   "outputs": [
    {
     "name": "stdout",
     "output_type": "stream",
     "text": [
      "epochs: 0 loss: 0.002435144116213539 rmse test: 0.5667694855064026 rmse train: 0.5744277247782226 learn rate:1e-05\n",
      "epochs: 10 loss: 0.0021534049591030446 rmse test: 0.5482614339415794 rmse train: 0.554143593611822 learn rate:1e-05\n",
      "epochs: 20 loss: 0.0017952841283244703 rmse test: 0.5322709618257061 rmse train: 0.5361673983471478 learn rate:1e-05\n",
      "epochs: 30 loss: 0.001424949376957807 rmse test: 0.5192094851284748 rmse train: 0.5211261056839336 learn rate:1e-05\n",
      "epochs: 40 loss: 0.0010891781951399282 rmse test: 0.5089938579837207 rmse train: 0.5091275931104544 learn rate:1e-05\n",
      "epochs: 50 loss: 0.0008103640532673151 rmse test: 0.5012424039715562 rmse train: 0.4999032519088517 learn rate:1e-05\n",
      "epochs: 60 loss: 0.0005921559693751466 rmse test: 0.49547212966386023 rmse train: 0.4929990062612847 learn rate:1e-05\n",
      "epochs: 70 loss: 0.00042799343608007634 rmse test: 0.4912255722423666 rmse train: 0.48792407895803136 learn rate:1e-05\n",
      "epochs: 80 loss: 0.00030760787731193284 rmse test: 0.4881226915026098 rmse train: 0.48423527210119305 learn rate:1e-05\n",
      "epochs: 90 loss: 0.00022071151251157328 rmse test: 0.48586591656692163 rmse train: 0.48156970980553043 learn rate:1e-05\n"
     ]
    },
    {
     "data": {
      "image/png": "[encoded data removed]",
      "text/plain": [
       "<Figure size 432x288 with 1 Axes>"
      ]
     },
     "metadata": {
      "needs_background": "light"
     },
     "output_type": "display_data"
    },
    {
     "data": {
      "image/png": "[encoded data removed]",
      "text/plain": [
       "<Figure size 432x288 with 1 Axes>"
      ]
     },
     "metadata": {
      "needs_background": "light"
     },
     "output_type": "display_data"
    }
   ],
   "source": [
    "lr=0.00001\n",
    "epochs=100\n",
    "lamda=0.0000001\n",
    "\n",
    "sgd=stochastic_gradient_descent(x_train_bank,y_train_bank,lr,epochs,lamda,x_test_bank,y_test_bank)"
   ]
  },
  {
   "cell_type": "code",
   "execution_count": 339,
   "metadata": {},
   "outputs": [
    {
     "name": "stdout",
     "output_type": "stream",
     "text": [
      "epochs: 0 loss: 0.023062767341360757 rmse test: 0.5645457503672167 rmse train: 0.5701477569122377 learn rate:0.0001\n",
      "epochs: 10 loss: 0.0022491519594182163 rmse test: 0.48635301418782906 rmse train: 0.4801129046089979 learn rate:0.0001\n",
      "epochs: 20 loss: 3.964943702564061e-05 rmse test: 0.48015353694355234 rmse train: 0.47392412457663413 learn rate:0.0001\n",
      "epochs: 30 loss: 4.1128671128543015e-05 rmse test: 0.47993772930217266 rmse train: 0.47428256266027247 learn rate:0.0001\n",
      "epochs: 40 loss: 1.3254800108997156e-05 rmse test: 0.479938100019452 rmse train: 0.4745456489104172 learn rate:0.0001\n",
      "epochs: 50 loss: 1.1459817071124423e-06 rmse test: 0.47994427857585537 rmse train: 0.47460246105958503 learn rate:0.0001\n",
      "epochs: 60 loss: 1.5320859126088937e-06 rmse test: 0.479926290377631 rmse train: 0.47459464507117455 learn rate:0.0001\n",
      "epochs: 70 loss: 1.3923905377577483e-06 rmse test: 0.47989119878711056 rmse train: 0.4745782750910743 learn rate:0.0001\n",
      "epochs: 80 loss: 7.001488884217366e-07 rmse test: 0.47985314713173394 rmse train: 0.4745675328889863 learn rate:0.0001\n",
      "epochs: 90 loss: 7.637077256705815e-08 rmse test: 0.4798202269870716 rmse train: 0.47456392609943476 learn rate:0.0001\n"
     ]
    },
    {
     "data": {
      "image/png": "[encoded data removed]",
      "text/plain": [
       "<Figure size 432x288 with 1 Axes>"
      ]
     },
     "metadata": {
      "needs_background": "light"
     },
     "output_type": "display_data"
    },
    {
     "data": {
      "image/png": "[encoded data removed]",
      "text/plain": [
       "<Figure size 432x288 with 1 Axes>"
      ]
     },
     "metadata": {
      "needs_background": "light"
     },
     "output_type": "display_data"
    }
   ],
   "source": [
    "lr=0.0001\n",
    "epochs=100\n",
    "lamda=0.1\n",
    "\n",
    "sgd=stochastic_gradient_descent(x_train_bank,y_train_bank,lr,epochs,lamda,x_test_bank,y_test_bank)"
   ]
  },
  {
   "cell_type": "markdown",
   "metadata": {},
   "source": [
    "### This combination of alpha(lr) and lamda was not optimal because the rmse of test train has a significant difference the reason behind can be the higher values of alpha(lr)"
   ]
  },
  {
   "cell_type": "code",
   "execution_count": 340,
   "metadata": {},
   "outputs": [
    {
     "name": "stdout",
     "output_type": "stream",
     "text": [
      "epochs: 0 loss: 0.1012987002452139 rmse test: 0.4915859610745922 rmse train: 0.4833867419875229 learn rate:0.001\n",
      "epochs: 10 loss: 1.8763479428723917e-05 rmse test: 0.47977268389697897 rmse train: 0.4748526179285648 learn rate:0.001\n",
      "epochs: 20 loss: 1.2782270281952446e-06 rmse test: 0.4797878666761989 rmse train: 0.4749162403972483 learn rate:0.001\n",
      "epochs: 30 loss: 6.889696593792571e-08 rmse test: 0.47978910634522515 rmse train: 0.4749200053641214 learn rate:0.001\n",
      "epochs: 40 loss: 3.670668158317625e-09 rmse test: 0.4797891735787845 rmse train: 0.47492020692878656 learn rate:0.001\n",
      "epochs: 50 loss: 1.9544399432191994e-10 rmse test: 0.47978917716199065 rmse train: 0.4749202176638266 learn rate:0.001\n",
      "epochs: 60 loss: 1.0406037143084745e-11 rmse test: 0.47978917735278104 rmse train: 0.4749202182354006 learn rate:0.001\n",
      "epochs: 70 loss: 5.540845560148e-13 rmse test: 0.47978917736293925 rmse train: 0.4749202182658329 learn rate:0.001\n",
      "epochs: 80 loss: 2.9531932455029164e-14 rmse test: 0.47978917736348015 rmse train: 0.47492021826745323 learn rate:0.001\n",
      "epochs: 90 loss: 1.582067810090848e-15 rmse test: 0.47978917736350896 rmse train: 0.47492021826753944 learn rate:0.001\n"
     ]
    },
    {
     "data": {
      "image/png": "[encoded data removed]",
      "text/plain": [
       "<Figure size 432x288 with 1 Axes>"
      ]
     },
     "metadata": {
      "needs_background": "light"
     },
     "output_type": "display_data"
    },
    {
     "data": {
      "image/png": "[encoded data removed]",
      "text/plain": [
       "<Figure size 432x288 with 1 Axes>"
      ]
     },
     "metadata": {
      "needs_background": "light"
     },
     "output_type": "display_data"
    }
   ],
   "source": [
    "lr=0.001\n",
    "epochs=100\n",
    "lamda=0.5\n",
    "\n",
    "sgd=stochastic_gradient_descent(x_train_bank,y_train_bank,lr,epochs,lamda,x_test_bank,y_test_bank)"
   ]
  },
  {
   "cell_type": "markdown",
   "metadata": {},
   "source": [
    "# Ridge Regression using mini-Batch Gradient Descent using the Wine quality RED dataset\n",
    "\n",
    "Training the wine quality red data and plotting the rmse values for three combinations of alpha and lamda values"
   ]
  },
  {
   "cell_type": "markdown",
   "metadata": {},
   "source": [
    "### For this combination of parameters the rmse decreased in both case but the model is not optimal for those parameter the reason behind it can the very low value of lamda"
   ]
  },
  {
   "cell_type": "code",
   "execution_count": 467,
   "metadata": {},
   "outputs": [
    {
     "name": "stdout",
     "output_type": "stream",
     "text": [
      "epochs: 0 loss: 0.0006509246559716075 rmse test: 5.189771015241054 rmse train: 5.243582645791314 learn rate:1e-06 lamda:1e-08\n",
      "epochs: 10 loss: 0.0006435340938999445 rmse test: 5.189262549077594 rmse train: 5.24296577704215 learn rate:1e-06 lamda:1e-08\n",
      "epochs: 20 loss: 0.000635878402380996 rmse test: 5.18875683651541 rmse train: 5.242356024981522 learn rate:1e-06 lamda:1e-08\n",
      "epochs: 30 loss: 0.0006279739874806012 rmse test: 5.188253941090884 rmse train: 5.241753636374407 learn rate:1e-06 lamda:1e-08\n",
      "epochs: 40 loss: 0.0006198370758241367 rmse test: 5.187753925569301 rmse train: 5.2411588425094555 learn rate:1e-06 lamda:1e-08\n",
      "epochs: 50 loss: 0.0006114836860078299 rmse test: 5.187256852478571 rmse train: 5.240571859373253 learn rate:1e-06 lamda:1e-08\n",
      "epochs: 60 loss: 0.0006029296030050091 rmse test: 5.186762784580742 rmse train: 5.2399928878506445 learn rate:1e-06 lamda:1e-08\n",
      "epochs: 70 loss: 0.000594190355471369 rmse test: 5.1862717852802245 rmse train: 5.23942211394833 learn rate:1e-06 lamda:1e-08\n",
      "epochs: 80 loss: 0.0005852811955762149 rmse test: 5.185783918968442 rmse train: 5.238859709039154 learn rate:1e-06 lamda:1e-08\n",
      "epochs: 90 loss: 0.0005762170813703449 rmse test: 5.185299251305482 rmse train: 5.23830583012478 learn rate:1e-06 lamda:1e-08\n"
     ]
    },
    {
     "data": {
      "image/png": "[encoded data removed]",
      "text/plain": [
       "<Figure size 432x288 with 1 Axes>"
      ]
     },
     "metadata": {
      "needs_background": "light"
     },
     "output_type": "display_data"
    },
    {
     "data": {
      "image/png": "[encoded data removed]",
      "text/plain": [
       "<Figure size 432x288 with 1 Axes>"
      ]
     },
     "metadata": {
      "needs_background": "light"
     },
     "output_type": "display_data"
    }
   ],
   "source": [
    "lr=0.000001\n",
    "epochs=100\n",
    "lamda=0.00000001\n",
    "\n",
    "sgd=stochastic_gradient_descent(x_train_rwine,y_train_rwine,lr,epochs,lamda,x_test_rwine,y_test_rwine)"
   ]
  },
  {
   "cell_type": "markdown",
   "metadata": {},
   "source": [
    "### As the lamda values increased as well as the learning rate we can notice that the model is better than the previous one"
   ]
  },
  {
   "cell_type": "code",
   "execution_count": 342,
   "metadata": {},
   "outputs": [
    {
     "name": "stdout",
     "output_type": "stream",
     "text": [
      "epochs: 0 loss: 0.0041321762277775065 rmse test: 5.197836846833961 rmse train: 5.251086239601267 learn rate:1e-05\n",
      "epochs: 10 loss: 0.005069688427788321 rmse test: 5.194623807314949 rmse train: 5.246624627379558 learn rate:1e-05\n",
      "epochs: 20 loss: 0.005516118285370908 rmse test: 5.19053899222862 rmse train: 5.241515530311854 learn rate:1e-05\n",
      "epochs: 30 loss: 0.005458645723205535 rmse test: 5.1860538835666325 rmse train: 5.236244244282735 learn rate:1e-05\n",
      "epochs: 40 loss: 0.004998994322473749 rmse test: 5.181584353750308 rmse train: 5.231244938115033 learn rate:1e-05\n",
      "epochs: 50 loss: 0.004290628823522269 rmse test: 5.177419404769383 rmse train: 5.226824129034064 learn rate:1e-05\n",
      "epochs: 60 loss: 0.0034836579159964742 rmse test: 5.173729198881787 rmse train: 5.223140271391289 learn rate:1e-05\n",
      "epochs: 70 loss: 0.0026887364330399066 rmse test: 5.170596755200449 rmse train: 5.220227227788137 learn rate:1e-05\n",
      "epochs: 80 loss: 0.0019678706421792924 rmse test: 5.168047043758433 rmse train: 5.218038426663595 learn rate:1e-05\n",
      "epochs: 90 loss: 0.001344042021578673 rmse test: 5.166066146837551 rmse train: 5.216489208070818 learn rate:1e-05\n"
     ]
    },
    {
     "data": {
      "image/png": "[encoded data removed]",
      "text/plain": [
       "<Figure size 432x288 with 1 Axes>"
      ]
     },
     "metadata": {
      "needs_background": "light"
     },
     "output_type": "display_data"
    },
    {
     "data": {
      "image/png": "[encoded data removed]",
      "text/plain": [
       "<Figure size 432x288 with 1 Axes>"
      ]
     },
     "metadata": {
      "needs_background": "light"
     },
     "output_type": "display_data"
    }
   ],
   "source": [
    "lr=0.00001\n",
    "epochs=100\n",
    "lamda=0.001\n",
    "\n",
    "sgd=stochastic_gradient_descent(x_train_rwine,y_train_rwine,lr,epochs,lamda,x_test_rwine,y_test_rwine)"
   ]
  },
  {
   "cell_type": "markdown",
   "metadata": {},
   "source": [
    "### As the learning rate is too high that why the rmse values increased"
   ]
  },
  {
   "cell_type": "code",
   "execution_count": 343,
   "metadata": {},
   "outputs": [
    {
     "name": "stdout",
     "output_type": "stream",
     "text": [
      "epochs: 0 loss: 0.10771665167445477 rmse test: 5.164264008947285 rmse train: 5.212475398776306 learn rate:0.001\n",
      "epochs: 10 loss: 0.005909533382872922 rmse test: 5.182808901152875 rmse train: 5.246659422475059 learn rate:0.001\n",
      "epochs: 20 loss: 0.0009578484993255643 rmse test: 5.183234548612397 rmse train: 5.248788510066779 learn rate:0.001\n",
      "epochs: 30 loss: 0.0003445648024111847 rmse test: 5.183103146181624 rmse train: 5.249312919481072 learn rate:0.001\n",
      "epochs: 40 loss: 0.00014532184482973776 rmse test: 5.183001372876649 rmse train: 5.249523234859014 learn rate:0.001\n",
      "epochs: 50 loss: 5.8955354269585314e-05 rmse test: 5.182927705884194 rmse train: 5.2496109358269685 learn rate:0.001\n",
      "epochs: 60 loss: 2.0754388341259755e-05 rmse test: 5.182872071018055 rmse train: 5.2496446441304085 learn rate:0.001\n",
      "epochs: 70 loss: 4.09833970493878e-06 rmse test: 5.182828660014807 rmse train: 5.24965459002484 learn rate:0.001\n",
      "epochs: 80 loss: 2.8008884029873116e-06 rmse test: 5.182794184899615 rmse train: 5.249654379998446 learn rate:0.001\n",
      "epochs: 90 loss: 5.255175157259373e-06 rmse test: 5.182766610367428 rmse train: 5.249650199795767 learn rate:0.001\n"
     ]
    },
    {
     "data": {
      "image/png": "[encoded data removed]",
      "text/plain": [
       "<Figure size 432x288 with 1 Axes>"
      ]
     },
     "metadata": {
      "needs_background": "light"
     },
     "output_type": "display_data"
    },
    {
     "data": {
      "image/png": "[encoded data removed]",
      "text/plain": [
       "<Figure size 432x288 with 1 Axes>"
      ]
     },
     "metadata": {
      "needs_background": "light"
     },
     "output_type": "display_data"
    }
   ],
   "source": [
    "lr=0.001\n",
    "epochs=100\n",
    "lamda=0.5\n",
    "\n",
    "sgd=stochastic_gradient_descent(x_train_rwine,y_train_rwine,lr,epochs,lamda,x_test_rwine,y_test_rwine)"
   ]
  },
  {
   "cell_type": "markdown",
   "metadata": {},
   "source": [
    "# Ridge Regression using mini-Batch Gradient Descent using the Wine quality WHITE dataset\n",
    "\n",
    "Training the wine quality white data and plotting the rmse values for three combinations of alpha and lamda values"
   ]
  },
  {
   "cell_type": "markdown",
   "metadata": {},
   "source": [
    "### The first two combinations of Alpha(lr) and lamda displayed decreasing rmse but the model is not optimal as there is a gap between rmse train and rmse test"
   ]
  },
  {
   "cell_type": "code",
   "execution_count": 344,
   "metadata": {},
   "outputs": [
    {
     "name": "stdout",
     "output_type": "stream",
     "text": [
      "epochs: 0 loss: 0.03280442703835362 rmse test: 5.437965844930234 rmse train: 5.497458231222561 learn rate:1e-05\n",
      "epochs: 10 loss: 0.021652877313009355 rmse test: 5.4133057526177035 rmse train: 5.471538162042627 learn rate:1e-05\n",
      "epochs: 20 loss: 0.005101611126974603 rmse test: 5.403431619368905 rmse train: 5.460716203387002 learn rate:1e-05\n",
      "epochs: 30 loss: 0.0002758226316856849 rmse test: 5.402254597120471 rmse train: 5.459448814439359 learn rate:1e-05\n",
      "epochs: 40 loss: 0.0006306304975609578 rmse test: 5.4026970433745225 rmse train: 5.4600280104496255 learn rate:1e-05\n",
      "epochs: 50 loss: 9.064401385572296e-05 rmse test: 5.403020498746178 rmse train: 5.4603460765052265 learn rate:1e-05\n",
      "epochs: 60 loss: 0.0003882261440431023 rmse test: 5.403159204455013 rmse train: 5.460173099310704 learn rate:1e-05\n",
      "epochs: 70 loss: 0.0006709203601715785 rmse test: 5.403104985917543 rmse train: 5.459661702361775 learn rate:1e-05\n",
      "epochs: 80 loss: 0.0008078085709080085 rmse test: 5.402652109212518 rmse train: 5.458969660883536 learn rate:1e-05\n",
      "epochs: 90 loss: 0.0008564837452702534 rmse test: 5.4020117602035045 rmse train: 5.458200285018177 learn rate:1e-05\n"
     ]
    },
    {
     "data": {
      "image/png": "[encoded data removed]",
      "text/plain": [
       "<Figure size 432x288 with 1 Axes>"
      ]
     },
     "metadata": {
      "needs_background": "light"
     },
     "output_type": "display_data"
    },
    {
     "data": {
      "image/png": "[encoded data removed]",
      "text/plain": [
       "<Figure size 432x288 with 1 Axes>"
      ]
     },
     "metadata": {
      "needs_background": "light"
     },
     "output_type": "display_data"
    }
   ],
   "source": [
    "lr=0.00001\n",
    "epochs=100\n",
    "lamda=0.00000001\n",
    "\n",
    "sgd=stochastic_gradient_descent(x_train_wwine,y_train_wwine,lr,epochs,lamda,x_test_wwine,y_test_wwine)"
   ]
  },
  {
   "cell_type": "code",
   "execution_count": 345,
   "metadata": {},
   "outputs": [
    {
     "name": "stdout",
     "output_type": "stream",
     "text": [
      "epochs: 0 loss: 0.02750199731630687 rmse test: 5.434855572836458 rmse train: 5.495391962871424 learn rate:1e-05\n",
      "epochs: 10 loss: 0.022515041212358256 rmse test: 5.412345873793623 rmse train: 5.471305892434331 learn rate:1e-05\n",
      "epochs: 20 loss: 0.009306422585112273 rmse test: 5.39918958422557 rmse train: 5.457741524709962 learn rate:1e-05\n",
      "epochs: 30 loss: 0.003146960744768279 rmse test: 5.39508591012017 rmse train: 5.452792374176082 learn rate:1e-05\n",
      "epochs: 40 loss: 0.0012215630958323231 rmse test: 5.394387763837499 rmse train: 5.451057384130869 learn rate:1e-05\n",
      "epochs: 50 loss: 0.0006637598153744761 rmse test: 5.393873827178325 rmse train: 5.450266208262205 learn rate:1e-05\n",
      "epochs: 60 loss: 0.000470282918687559 rmse test: 5.393437213897484 rmse train: 5.449768328901487 learn rate:1e-05\n",
      "epochs: 70 loss: 0.0003865714110098395 rmse test: 5.393098538824459 rmse train: 5.449383696932788 learn rate:1e-05\n",
      "epochs: 80 loss: 0.0003430798249439704 rmse test: 5.3928404250082425 rmse train: 5.449052792110434 learn rate:1e-05\n",
      "epochs: 90 loss: 0.00031617047243059915 rmse test: 5.39263806864584 rmse train: 5.448752337778787 learn rate:1e-05\n"
     ]
    },
    {
     "data": {
      "image/png": "[encoded data removed]",
      "text/plain": [
       "<Figure size 432x288 with 1 Axes>"
      ]
     },
     "metadata": {
      "needs_background": "light"
     },
     "output_type": "display_data"
    },
    {
     "data": {
      "image/png": "[encoded data removed]",
      "text/plain": [
       "<Figure size 432x288 with 1 Axes>"
      ]
     },
     "metadata": {
      "needs_background": "light"
     },
     "output_type": "display_data"
    }
   ],
   "source": [
    "lr=0.00001\n",
    "epochs=100\n",
    "lamda=0.001\n",
    "\n",
    "sgd=stochastic_gradient_descent(x_train_wwine,y_train_wwine,lr,epochs,lamda,x_test_wwine,y_test_wwine)"
   ]
  },
  {
   "cell_type": "markdown",
   "metadata": {},
   "source": [
    "### Due to high value of lamda the model is not optimal"
   ]
  },
  {
   "cell_type": "code",
   "execution_count": 302,
   "metadata": {},
   "outputs": [
    {
     "name": "stdout",
     "output_type": "stream",
     "text": [
      "epochs: 0 loss: 0.3069763558754879 rmse test: 5.399939207664042 rmse train: 5.4548055310251335 learn rate:0.001\n",
      "epochs: 10 loss: 0.0008315851709141953 rmse test: 5.390327987293128 rmse train: 5.444733866663246 learn rate:0.001\n",
      "epochs: 20 loss: 6.631570777670959e-05 rmse test: 5.390194768977441 rmse train: 5.444497304705175 learn rate:0.001\n",
      "epochs: 30 loss: 2.297646947369003e-06 rmse test: 5.390203344655504 rmse train: 5.444479171068812 learn rate:0.001\n",
      "epochs: 40 loss: 2.429880638032955e-06 rmse test: 5.390214647830223 rmse train: 5.4444805414223 learn rate:0.001\n",
      "epochs: 50 loss: 1.468457579534288e-06 rmse test: 5.3902206477713674 rmse train: 5.444482337755284 learn rate:0.001\n",
      "epochs: 60 loss: 6.483208210283919e-07 rmse test: 5.390223399707522 rmse train: 5.444483233511125 learn rate:0.001\n",
      "epochs: 70 loss: 2.5839322148613064e-07 rmse test: 5.390224603054633 rmse train: 5.444483607285957 learn rate:0.001\n",
      "epochs: 80 loss: 9.78192780110021e-08 rmse test: 5.3902251195811255 rmse train: 5.444483752344625 learn rate:0.001\n",
      "epochs: 90 loss: 3.572495188564062e-08 rmse test: 5.3902253396752275 rmse train: 5.444483806306915 learn rate:0.001\n"
     ]
    },
    {
     "data": {
      "image/png": "[encoded data removed]",
      "text/plain": [
       "<Figure size 432x288 with 1 Axes>"
      ]
     },
     "metadata": {
      "needs_background": "light"
     },
     "output_type": "display_data"
    },
    {
     "data": {
      "image/png": "[encoded data removed]",
      "text/plain": [
       "<Figure size 432x288 with 1 Axes>"
      ]
     },
     "metadata": {
      "needs_background": "light"
     },
     "output_type": "display_data"
    }
   ],
   "source": [
    "lr=0.001\n",
    "epochs=100\n",
    "lamda=0.5\n",
    "\n",
    "sgd=stochastic_gradient_descent(x_train_wwine,y_train_wwine,lr,epochs,lamda,x_test_wwine,y_test_wwine)"
   ]
  }
 ],
 "metadata": {
  "kernelspec": {
   "display_name": "Python 3",
   "language": "python",
   "name": "python3"
  },
  "language_info": {
   "codemirror_mode": {
    "name": "ipython",
    "version": 3
   },
   "file_extension": ".py",
   "mimetype": "text/x-python",
   "name": "python",
   "nbconvert_exporter": "python",
   "pygments_lexer": "ipython3",
   "version": "3.6.8"
  }
 },
 "nbformat": 4,
 "nbformat_minor": 2
}
