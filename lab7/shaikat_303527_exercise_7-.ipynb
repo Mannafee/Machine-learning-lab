{
 "cells": [
  {
   "cell_type": "code",
   "execution_count": 1,
   "metadata": {},
   "outputs": [],
   "source": [
    "import numpy as np\n",
    "import pandas as pd\n",
    "import matplotlib.pyplot as plt\n",
    "from sklearn.model_selection import train_test_split\n",
    "from collections import Counter\n",
    "import math as Math"
   ]
  },
  {
   "cell_type": "markdown",
   "metadata": {},
   "source": [
    "\n",
    "### Preprocessing Wine Quality Red dataset"
   ]
  },
  {
   "cell_type": "code",
   "execution_count": 2,
   "metadata": {},
   "outputs": [
    {
     "data": {
      "text/html": [
       "<div>\n",
       "<style scoped>\n",
       "    .dataframe tbody tr th:only-of-type {\n",
       "        vertical-align: middle;\n",
       "    }\n",
       "\n",
       "    .dataframe tbody tr th {\n",
       "        vertical-align: top;\n",
       "    }\n",
       "\n",
       "    .dataframe thead th {\n",
       "        text-align: right;\n",
       "    }\n",
       "</style>\n",
       "<table border=\"1\" class=\"dataframe\">\n",
       "  <thead>\n",
       "    <tr style=\"text-align: right;\">\n",
       "      <th></th>\n",
       "      <th>fixed acidity</th>\n",
       "      <th>volatile acidity</th>\n",
       "      <th>citric acid</th>\n",
       "      <th>residual sugar</th>\n",
       "      <th>chlorides</th>\n",
       "      <th>free sulfur dioxide</th>\n",
       "      <th>total sulfur dioxide</th>\n",
       "      <th>density</th>\n",
       "      <th>pH</th>\n",
       "      <th>sulphates</th>\n",
       "      <th>alcohol</th>\n",
       "      <th>quality</th>\n",
       "    </tr>\n",
       "  </thead>\n",
       "  <tbody>\n",
       "    <tr>\n",
       "      <th>0</th>\n",
       "      <td>7.4</td>\n",
       "      <td>0.70</td>\n",
       "      <td>0.00</td>\n",
       "      <td>1.9</td>\n",
       "      <td>0.076</td>\n",
       "      <td>11.0</td>\n",
       "      <td>34.0</td>\n",
       "      <td>0.9978</td>\n",
       "      <td>3.51</td>\n",
       "      <td>0.56</td>\n",
       "      <td>9.4</td>\n",
       "      <td>5</td>\n",
       "    </tr>\n",
       "    <tr>\n",
       "      <th>1</th>\n",
       "      <td>7.8</td>\n",
       "      <td>0.88</td>\n",
       "      <td>0.00</td>\n",
       "      <td>2.6</td>\n",
       "      <td>0.098</td>\n",
       "      <td>25.0</td>\n",
       "      <td>67.0</td>\n",
       "      <td>0.9968</td>\n",
       "      <td>3.20</td>\n",
       "      <td>0.68</td>\n",
       "      <td>9.8</td>\n",
       "      <td>5</td>\n",
       "    </tr>\n",
       "    <tr>\n",
       "      <th>2</th>\n",
       "      <td>7.8</td>\n",
       "      <td>0.76</td>\n",
       "      <td>0.04</td>\n",
       "      <td>2.3</td>\n",
       "      <td>0.092</td>\n",
       "      <td>15.0</td>\n",
       "      <td>54.0</td>\n",
       "      <td>0.9970</td>\n",
       "      <td>3.26</td>\n",
       "      <td>0.65</td>\n",
       "      <td>9.8</td>\n",
       "      <td>5</td>\n",
       "    </tr>\n",
       "  </tbody>\n",
       "</table>\n",
       "</div>"
      ],
      "text/plain": [
       "   fixed acidity  volatile acidity  citric acid  residual sugar  chlorides  \\\n",
       "0            7.4              0.70         0.00             1.9      0.076   \n",
       "1            7.8              0.88         0.00             2.6      0.098   \n",
       "2            7.8              0.76         0.04             2.3      0.092   \n",
       "\n",
       "   free sulfur dioxide  total sulfur dioxide  density    pH  sulphates  \\\n",
       "0                 11.0                  34.0   0.9978  3.51       0.56   \n",
       "1                 25.0                  67.0   0.9968  3.20       0.68   \n",
       "2                 15.0                  54.0   0.9970  3.26       0.65   \n",
       "\n",
       "   alcohol  quality  \n",
       "0      9.4        5  \n",
       "1      9.8        5  \n",
       "2      9.8        5  "
      ]
     },
     "execution_count": 2,
     "metadata": {},
     "output_type": "execute_result"
    }
   ],
   "source": [
    "filename=r\"E:\\Documents\\University of Hildesheim\\Machine learning lab\\lab5\\winequality-red.csv\"\n",
    "rwine_data = pd.read_csv(filename,delimiter=';')\n",
    "rwine_data.head(3)"
   ]
  },
  {
   "cell_type": "code",
   "execution_count": 3,
   "metadata": {},
   "outputs": [
    {
     "name": "stdout",
     "output_type": "stream",
     "text": [
      "<class 'pandas.core.frame.DataFrame'>\n",
      "RangeIndex: 1599 entries, 0 to 1598\n",
      "Data columns (total 12 columns):\n",
      "fixed acidity           1599 non-null float64\n",
      "volatile acidity        1599 non-null float64\n",
      "citric acid             1599 non-null float64\n",
      "residual sugar          1599 non-null float64\n",
      "chlorides               1599 non-null float64\n",
      "free sulfur dioxide     1599 non-null float64\n",
      "total sulfur dioxide    1599 non-null float64\n",
      "density                 1599 non-null float64\n",
      "pH                      1599 non-null float64\n",
      "sulphates               1599 non-null float64\n",
      "alcohol                 1599 non-null float64\n",
      "quality                 1599 non-null int64\n",
      "dtypes: float64(11), int64(1)\n",
      "memory usage: 150.0 KB\n"
     ]
    }
   ],
   "source": [
    "rwine_data.info()"
   ]
  },
  {
   "cell_type": "markdown",
   "metadata": {},
   "source": [
    "### Split data into a train and a test split (70% and 30% respectively)"
   ]
  },
  {
   "cell_type": "code",
   "execution_count": 4,
   "metadata": {},
   "outputs": [],
   "source": [
    "Xdata_rwine = rwine_data.loc[:,rwine_data.columns!='quality']\n",
    "Ydata_rwine = rwine_data[['quality']]\n",
    "Xdata_rwine = (Xdata_rwine - Xdata_rwine.mean())/Xdata_rwine.std() #data normalized\n",
    "x_train_rwine, x_test_rwine, y_train_rwine, y_test_rwine =train_test_split(Xdata_rwine, \n",
    "                                                                       Ydata_rwine,train_size=0.7, \n",
    "                                                                       test_size=0.3, \n",
    "                                                                       random_state=0,shuffle=True)"
   ]
  },
  {
   "cell_type": "code",
   "execution_count": 5,
   "metadata": {},
   "outputs": [],
   "source": [
    "y_train_rwine=pd.DataFrame(y_train_rwine.values.reshape(-1,1))\n",
    "y_test_rwine=pd.DataFrame(y_test_rwine.values.reshape(-1,1))\n",
    "x_train_rwine=pd.DataFrame(x_train_rwine.values)\n",
    "x_test_rwine=pd.DataFrame(x_test_rwine.values)"
   ]
  },
  {
   "cell_type": "markdown",
   "metadata": {},
   "source": [
    "# Implement K-Nearest Neighbor (KNN)"
   ]
  },
  {
   "cell_type": "markdown",
   "metadata": {},
   "source": [
    "### Calculating Euclidian distance"
   ]
  },
  {
   "cell_type": "code",
   "execution_count": 6,
   "metadata": {},
   "outputs": [],
   "source": [
    "def EuclideanDistance(a,b):\n",
    "    return np.sqrt(np.sum((a-b)**2))"
   ]
  },
  {
   "cell_type": "markdown",
   "metadata": {},
   "source": [
    "### predicting the value of y "
   ]
  },
  {
   "cell_type": "code",
   "execution_count": 17,
   "metadata": {},
   "outputs": [],
   "source": [
    "def y_prediction(x,y,k):\n",
    "    y_pred=[]\n",
    "    for k,v in x:\n",
    "        y_pred.append(y[k,0])\n",
    "    return Counter(y_pred).most_common(1)[0][0]"
   ]
  },
  {
   "cell_type": "markdown",
   "metadata": {},
   "source": [
    "### knn prediction"
   ]
  },
  {
   "cell_type": "code",
   "execution_count": 19,
   "metadata": {},
   "outputs": [],
   "source": [
    "def predict_knn_reg(x,y,k,z):\n",
    "    d=dict()\n",
    "    for i in range(0,len(x)):\n",
    "        d[i]=EuclideanDistance(z,x.iloc[i])\n",
    "    d_new=sorted(d.items(),key=lambda kv:kv[1])\n",
    "    c=d_new[:k]\n",
    "    y_pred=y_prediction(c,y,k)\n",
    "    return y_pred\n"
   ]
  },
  {
   "cell_type": "markdown",
   "metadata": {},
   "source": [
    "# Implementing Kfold cross validation to find the optimal value of k using error minimization\n",
    "### The function data_k_divide is used to divide the dataset according to the number of k fold\n",
    "### The function k_data_train_test is used to get random test and train data in every kfold"
   ]
  },
  {
   "cell_type": "code",
   "execution_count": 10,
   "metadata": {},
   "outputs": [],
   "source": [
    "def data_k_divide(data,k):\n",
    "    k_size=Math.floor(len(data)/k)\n",
    "    k_data=[] \n",
    "    c=0\n",
    "    for i in range (0,k):\n",
    "        data_set=pd.DataFrame(data.head(0))\n",
    "        for j in range(i*k_size,(i*k_size)+k_size):\n",
    "            data_set=data_set.append(data.iloc[j])\n",
    "            c=c+1\n",
    "        k_data.append(data_set)\n",
    "        \n",
    "    #adding datas which are remaining at the end of k division\n",
    "    for j in range(c,len(data)):\n",
    "        k_data[k-1]=k_data[k-1].append(data.iloc[j])\n",
    "    return k_data\n",
    "\n",
    "def k_data_train_test(x,y,k):\n",
    "    k_folded_data=[]\n",
    "    for i in range(0,k):\n",
    "        x_test=x[i]\n",
    "        y_test=y[i]\n",
    "        x_train=pd.DataFrame()\n",
    "        y_train=pd.DataFrame()\n",
    "        for j in range(0,k):\n",
    "            if i!=j:\n",
    "                x_train=x_train.append(x[j])\n",
    "                y_train=y_train.append(y[j])\n",
    "        final_data=dict([('x',x_train),('y',y_train),('xt',x_test),('yt',y_test)])\n",
    "        k_folded_data.append(final_data)\n",
    "    return k_folded_data\n",
    "\n",
    "def kfold(x_train,y_train,k):\n",
    "    x_train_k=data_k_divide(x_train,k)\n",
    "    y_train_k=data_k_divide(y_train,k)\n",
    "    data=k_data_train_test(x_train_k,y_train_k,k)\n",
    "    accuracy=[]\n",
    "    for i in range(len(data)):\n",
    "        y_pred=[]\n",
    "        for j in range(0,len(data[i]['xt'])):\n",
    "            y_pred.append(predict_knn_reg(data[i]['x'],data[i]['y'].values,k,data[i]['xt'].iloc[j].values))\n",
    "        accuracy.append(classification_accuracy(data[i]['yt'],y_pred))\n",
    "    return accuracy"
   ]
  },
  {
   "cell_type": "markdown",
   "metadata": {},
   "source": [
    "### finding out the classification accuracy"
   ]
  },
  {
   "cell_type": "code",
   "execution_count": 33,
   "metadata": {},
   "outputs": [],
   "source": [
    "def classification_accuracy(y,y_pred):\n",
    "    y=pd.DataFrame(y).to_numpy()\n",
    "    y_pred=np.asarray(y_pred)\n",
    "    acc=np.mean(y == y_pred)\n",
    "    return acc"
   ]
  },
  {
   "cell_type": "code",
   "execution_count": 20,
   "metadata": {
    "scrolled": false
   },
   "outputs": [],
   "source": [
    "ypred_v=[]\n",
    "k=5\n",
    "for j in range(0,len(x_test_rwine)):\n",
    "    ypred_v.append(predict_knn_reg(x_train_rwine,y_train_rwine.values,k,x_test_rwine.iloc[j].values))\n",
    "    \n"
   ]
  },
  {
   "cell_type": "markdown",
   "metadata": {},
   "source": [
    "### The graph represents the comparison between predicted y and actual y when the value of k is 5"
   ]
  },
  {
   "cell_type": "code",
   "execution_count": 21,
   "metadata": {
    "scrolled": false
   },
   "outputs": [
    {
     "data": {
      "image/png": "[encoded data removed]",
      "text/plain": [
       "<Figure size 1440x720 with 1 Axes>"
      ]
     },
     "metadata": {
      "needs_background": "light"
     },
     "output_type": "display_data"
    }
   ],
   "source": [
    "fig,axs=plt.subplots(1,1,figsize=(20,10))\n",
    "axs.plot(sorted(y_test_rwine.values),label='actual')\n",
    "axs.plot(sorted(ypred_v),label='predicted')\n",
    "axs.legend()\n",
    "plt.show()"
   ]
  },
  {
   "cell_type": "code",
   "execution_count": 26,
   "metadata": {},
   "outputs": [
    {
     "name": "stdout",
     "output_type": "stream",
     "text": [
      "Accuracy rate= 0.3834548611111111\n"
     ]
    }
   ],
   "source": [
    "print('Accuracy rate=',classification_accuracy(y_test_rwine.values,ypred_v))"
   ]
  },
  {
   "cell_type": "markdown",
   "metadata": {},
   "source": [
    "### Calculating the accuracy with different values of k,k > 14 becomes more computionally complex so the limit is 15\n",
    "### Then we got the best average accuracy of 0.3712 and the best k is 13"
   ]
  },
  {
   "cell_type": "code",
   "execution_count": 34,
   "metadata": {},
   "outputs": [
    {
     "name": "stdout",
     "output_type": "stream",
     "text": [
      "for value of k= 2   best k= 2 best_accuracy= 0.35454560611774993\n",
      "for value of k= 3   best k= 3 best_accuracy= 0.35871265755761433\n",
      "for value of k= 4   best k= 4 best_accuracy= 0.3597709960663218\n",
      "for value of k= 5   best k= 5 best_accuracy= 0.3627328540413858\n",
      "for value of k= 6   best k= 6 best_accuracy= 0.36397428060493064\n",
      "for value of k= 7   best k= 7 best_accuracy= 0.36444537472014094\n",
      "for value of k= 8   best k= 8 best_accuracy= 0.3670880078952534\n",
      "for value of k= 9   best k= 9 best_accuracy= 0.36923532718033175\n",
      "for value of k= 10   best k= 9 best_accuracy= 0.36923532718033175\n",
      "for value of k= 11   best k= 11 best_accuracy= 0.3692360360062136\n",
      "for value of k= 12   best k= 12 best_accuracy= 0.3697051490327639\n",
      "for value of k= 13   best k= 13 best_accuracy= 0.37121208186263116\n",
      "for value of k= 14   best k= 13 best_accuracy= 0.37121208186263116\n",
      "best average accuracy= 0.37121208186263116\n",
      "best k= 13\n"
     ]
    }
   ],
   "source": [
    "best_accuracy=0\n",
    "best_k=0\n",
    "accuracyall=[]\n",
    "for i in range (2,15): #using k values between 2 to 15\n",
    "    kr=kfold(x_train_rwine,y_train_rwine,i)\n",
    "    if(len(accuracyall)==0 or np.average(kr)>best_accuracy):\n",
    "        best_k=i\n",
    "        best_accuracy=np.average(kr)\n",
    "    accuracyall.append(np.average(kr))\n",
    "    print('for value of k=',i,' ','best k=',best_k,'best_accuracy=',best_accuracy)\n",
    "print('best average accuracy=',best_accuracy)\n",
    "print('best k=',best_k)    "
   ]
  },
  {
   "cell_type": "markdown",
   "metadata": {},
   "source": [
    "\n",
    "### After analyzing the graph we can see that with the increase of K accuracy increases because small value of k means that noise will have a higher influence on the result."
   ]
  },
  {
   "cell_type": "code",
   "execution_count": 36,
   "metadata": {},
   "outputs": [
    {
     "data": {
      "image/png": "[encoded data removed]",
      "text/plain": [
       "<Figure size 1440x720 with 1 Axes>"
      ]
     },
     "metadata": {
      "needs_background": "light"
     },
     "output_type": "display_data"
    }
   ],
   "source": [
    "fig,axs=plt.subplots(1,1,figsize=(20,10))\n",
    "axs.plot(np.arange(len(accuracyall)),accuracyall)\n",
    "axs.plot(np.arange(len(accuracyall)),accuracyall,'o')\n",
    "plt.show()"
   ]
  },
  {
   "cell_type": "code",
   "execution_count": null,
   "metadata": {},
   "outputs": [],
   "source": []
  }
 ],
 "metadata": {
  "kernelspec": {
   "display_name": "Python 3",
   "language": "python",
   "name": "python3"
  },
  "language_info": {
   "codemirror_mode": {
    "name": "ipython",
    "version": 3
   },
   "file_extension": ".py",
   "mimetype": "text/x-python",
   "name": "python",
   "nbconvert_exporter": "python",
   "pygments_lexer": "ipython3",
   "version": "3.6.8"
  }
 },
 "nbformat": 4,
 "nbformat_minor": 2
}
