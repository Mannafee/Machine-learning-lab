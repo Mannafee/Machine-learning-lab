{
 "cells": [
  {
   "cell_type": "markdown",
   "metadata": {},
   "source": [
    "# 1.1 Python and Numpy\n",
    "## Read the data from the csv\n",
    "pandas dataframe can be used to import the data from csv file\n",
    "\n"
   ]
  },
  {
   "cell_type": "code",
   "execution_count": 86,
   "metadata": {},
   "outputs": [
    {
     "name": "stdout",
     "output_type": "stream",
     "text": [
      "  First Name  Last Name  English    Math  Science  German  Sports  Final Grade\n",
      "0      Robyn    Hobgood    60.95   24.77    20.60   69.32    8.36       184.00\n",
      "1       Eddy  Swearngin   100.00   12.99   100.00   52.24  100.00       365.23\n",
      "2      Leoma   Bridgman    83.37  100.00    78.69  100.00   19.50       381.56\n",
      "3    Arnetta      Peart    87.75  100.00    86.93   87.90   41.73       404.31\n",
      "4   Maryland      Colby   100.00  100.00   100.00   18.87   88.72       407.59\n"
     ]
    }
   ],
   "source": [
    "import matplotlib.pyplot as plt\n",
    "import numpy as np\n",
    "import pandas as pd\n",
    "pd.options.mode.chained_assignment = None \n",
    "df = pd.read_csv(r'E:\\Documents\\University of Hildesheim\\Machine learning lab\\lab1\\Grades.csv')\n",
    "print(df.head())\n",
    "\n"
   ]
  },
  {
   "cell_type": "markdown",
   "metadata": {},
   "source": [
    "## Computing sum of all the subjects for each students\n",
    "\n",
    "By accessing each value in dataframe and putting it in the for loop to find the sum on after another.The loop goes on till the maximum number of students is reached."
   ]
  },
  {
   "cell_type": "code",
   "execution_count": 87,
   "metadata": {},
   "outputs": [
    {
     "name": "stdout",
     "output_type": "stream",
     "text": [
      "[184. 365. 382. 404. 408. 263. 404. 367. 476. 341. 188. 274. 429. 395.\n",
      " 339. 430. 227. 285. 271. 373. 462. 343. 455. 440. 355. 373. 219. 361.\n",
      " 241. 225.]\n"
     ]
    }
   ],
   "source": [
    "num_students=len(df)\n",
    "sum=[]\n",
    "for i in range (0,num_students):\n",
    "    sum.append(df['English'][i]+df['Math'][i]+df['Science'][i]+df['German'][i]+df['Sports'][i])\n",
    "print(np.round(sum))"
   ]
  },
  {
   "cell_type": "markdown",
   "metadata": {},
   "source": [
    "## Computation of the average of the point for each student\n",
    "\n",
    "Dividing the sum of all the subjects of each student with the total points which is 500"
   ]
  },
  {
   "cell_type": "code",
   "execution_count": 88,
   "metadata": {},
   "outputs": [
    {
     "name": "stdout",
     "output_type": "stream",
     "text": [
      "[0.37 0.73 0.76 0.81 0.82 0.53 0.81 0.73 0.95 0.68 0.38 0.55 0.86 0.79\n",
      " 0.68 0.86 0.45 0.57 0.54 0.75 0.92 0.69 0.91 0.88 0.71 0.75 0.44 0.72\n",
      " 0.48 0.45]\n"
     ]
    }
   ],
   "source": [
    "avg=[]\n",
    "for i in range (0,num_students):\n",
    "    avg.append(sum[i]/500)\n",
    "print(np.round(avg,2))\n",
    "    \n",
    "  "
   ]
  },
  {
   "cell_type": "markdown",
   "metadata": {},
   "source": [
    "## Compute the standard deviation of point for each student\n",
    "\n",
    "Numpy standard deviation library made it easy to compute the standard deviation at a glance.Using (np.std) by putting all the values in the array named points and  calculate the standard deviation\n"
   ]
  },
  {
   "cell_type": "code",
   "execution_count": 89,
   "metadata": {},
   "outputs": [
    {
     "name": "stdout",
     "output_type": "stream",
     "text": [
      "[23.9  35.27 29.68 20.16 31.63 56.32 28.84 28.44  6.55 30.03 33.43 32.38\n",
      " 12.27 19.92 28.   25.55 39.03 15.32 35.68 36.03 14.92 53.3  17.96 23.82\n",
      " 45.44 23.34 30.27 16.43 28.47 22.  ]\n"
     ]
    }
   ],
   "source": [
    "stdev=[]\n",
    "for i in range (0,num_students):\n",
    "    points=[df['English'][i],df['Math'][i],df['Science'][i],df['German'][i],df['Sports'][i]]\n",
    "    stdev.append(np.std(points))\n",
    "print(np.round(stdev,2))"
   ]
  },
  {
   "cell_type": "markdown",
   "metadata": {},
   "source": [
    "## Plot the average points for all the students (in one figure)"
   ]
  },
  {
   "cell_type": "code",
   "execution_count": 90,
   "metadata": {},
   "outputs": [
    {
     "data": {
      "text/plain": [
       "[<matplotlib.lines.Line2D at 0x1d922814278>]"
      ]
     },
     "execution_count": 90,
     "metadata": {},
     "output_type": "execute_result"
    },
    {
     "data": {
      "image/png": "[encoded data removed]",
      "text/plain": [
       "<Figure size 432x288 with 1 Axes>"
      ]
     },
     "metadata": {
      "needs_background": "light"
     },
     "output_type": "display_data"
    }
   ],
   "source": [
    "plt.xlabel(\"Number of students\")\n",
    "plt.ylabel(\"Average points\")\n",
    "plt.plot( np.arange(num_students),avg,'r')"
   ]
  },
  {
   "cell_type": "markdown",
   "metadata": {},
   "source": [
    "## For each student assign a grade based on the following rubric\n",
    "\n",
    "Assigning number of students accoring to their percentage acquired which is (average*100)\n"
   ]
  },
  {
   "cell_type": "code",
   "execution_count": 91,
   "metadata": {},
   "outputs": [
    {
     "name": "stdout",
     "output_type": "stream",
     "text": [
      "   %range Grade  #of students\n",
      "0  96-100    A+             0\n",
      "1   90-95     A             2\n",
      "2   86-89    A-             1\n",
      "3   80-85    B+             3\n",
      "4   76-79     B             2\n",
      "5   70-75    B-             6\n",
      "6   66-69    C+             3\n",
      "7   60-65     C             0\n",
      "8   56-59     D             1\n",
      "9    0-55     F             9\n"
     ]
    }
   ],
   "source": [
    "#creating instances for dataframe\n",
    "gradsys = [ ('96-100','A+',0) ,\n",
    "             ('90-95','A',0) ,\n",
    "             ('86-89','A-',0),\n",
    "             ('80-85','B+',0),\n",
    "             ('76-79','B',0) ,\n",
    "             ('70-75','B-',0),('66-69','C+',0),('60-65','C',0),('56-59','D',0),('0-55','F',0) ]\n",
    "\n",
    "#creating dataframe columns with and also exporting the values in to it.\n",
    "grad = pd.DataFrame(gradsys , columns = ['%range' , 'Grade', '#of students'])\n",
    "\n",
    "for i in range (0,num_students):\n",
    "    num=avg[i]*100\n",
    "    if num<=100 and num>=96:\n",
    "        grad['#of students'][0]+=1\n",
    "    elif num<95 and num>90:\n",
    "        grad['#of students'][1]+=1\n",
    "    elif num < 89 and num > 86:\n",
    "        grad['#of students'][2]+=1\n",
    "    elif num < 85 and num > 80:\n",
    "        grad['#of students'][3]+=1\n",
    "    elif num < 79 and num > 76:\n",
    "        grad['#of students'][4]+=1\n",
    "    elif num <75 and num >70:\n",
    "        grad['#of students'][5]+=1\n",
    "    elif num <69 and num >66:\n",
    "        grad['#of students'][6]+=1\n",
    "    elif num <65 and num >60:\n",
    "        grad['#of students'][7]+=1\n",
    "    elif num <59 and num >56:\n",
    "        grad['#of students'][8]+=1\n",
    "    elif num <55 and num >0:\n",
    "        grad['#of students'][9]+=1\n",
    "  \n",
    "print(grad)\n"
   ]
  },
  {
   "cell_type": "markdown",
   "metadata": {},
   "source": [
    "## Plot the histogram of the final grades."
   ]
  },
  {
   "cell_type": "code",
   "execution_count": 92,
   "metadata": {},
   "outputs": [
    {
     "data": {
      "image/png": "[encoded data removed]",
      "text/plain": [
       "<Figure size 432x288 with 1 Axes>"
      ]
     },
     "metadata": {
      "needs_background": "light"
     },
     "output_type": "display_data"
    }
   ],
   "source": [
    "hist = df['Final Grade'].hist(bins=30)"
   ]
  },
  {
   "cell_type": "markdown",
   "metadata": {},
   "source": [
    "## Matrix Multiplication\n",
    "\n",
    "Iterative multiply (element-wise)"
   ]
  },
  {
   "cell_type": "code",
   "execution_count": 93,
   "metadata": {},
   "outputs": [
    {
     "name": "stdout",
     "output_type": "stream",
     "text": [
      "[1.0984501586781539, 2.08949885809247, 4.700620823324904, 7.068489213867251, 8.072699662168013, 9.57123536644925, 10.871311485368427, 14.268588699952394, 19.04887936934773, 20.92258307569735, 24.157237587379466, 24.642666929499423, 26.753881481967184, 30.377740942186243, 34.77397054159279, 38.695178444184734, 43.49583394400996, 45.88716209674817, 49.20703117990057, 51.79196944857158]\n"
     ]
    }
   ],
   "source": [
    "matA=np.random.rand(100,20)\n",
    "v=np.random.normal(5, 0.01, 20)\n",
    "for i in range(len(matA)):\n",
    "    #creating empty list for the resulting vector\n",
    "    c = []\n",
    "    #variable for each row of action\n",
    "    elements = 0\n",
    "    for j in range(len(v)):\n",
    "        #adding the result of matrix vector element-|wise multiplication\n",
    "        elements += matA[i][j] * v[j]\n",
    "        c.append(elements)\n",
    "print(c)"
   ]
  },
  {
   "cell_type": "markdown",
   "metadata": {},
   "source": [
    "The mean and standard deviation of the new vector c"
   ]
  },
  {
   "cell_type": "code",
   "execution_count": 94,
   "metadata": {},
   "outputs": [
    {
     "name": "stdout",
     "output_type": "stream",
     "text": [
      "The mean of vector C is 23.37\n",
      "The standard deviation of vector C is 15.92\n"
     ]
    }
   ],
   "source": [
    "mean=np.mean(c)\n",
    "std=np.std(c)\n",
    "print('The mean of vector C is',np.round(mean,2))\n",
    "print('The standard deviation of vector C is',np.round(std,2))"
   ]
  },
  {
   "cell_type": "markdown",
   "metadata": {},
   "source": [
    "Histogram of vector c using 5 bins"
   ]
  },
  {
   "cell_type": "code",
   "execution_count": 95,
   "metadata": {},
   "outputs": [
    {
     "data": {
      "text/plain": [
       "(array([7., 3., 4., 2., 4.]),\n",
       " array([ 1.09845016, 11.23715402, 21.37585787, 31.51456173, 41.65326559,\n",
       "        51.79196945]),\n",
       " <a list of 5 Patch objects>)"
      ]
     },
     "execution_count": 95,
     "metadata": {},
     "output_type": "execute_result"
    },
    {
     "data": {
      "image/png": "[encoded data removed]",
      "text/plain": [
       "<Figure size 432x288 with 1 Axes>"
      ]
     },
     "metadata": {
      "needs_background": "light"
     },
     "output_type": "display_data"
    }
   ],
   "source": [
    "plt.hist(c, bins=5)"
   ]
  },
  {
   "cell_type": "markdown",
   "metadata": {},
   "source": [
    "# 1.2 Linear Regression through exact form"
   ]
  },
  {
   "cell_type": "code",
   "execution_count": 126,
   "metadata": {},
   "outputs": [],
   "source": [
    "v=np.random.normal(2, 1,(100,2))\n",
    "X=v[:,0].reshape(-1,1).astype(float)\n",
    "y=v[:,1].reshape(-1,1).astype(float)\n",
    "n=len(X)"
   ]
  },
  {
   "cell_type": "code",
   "execution_count": 127,
   "metadata": {},
   "outputs": [
    {
     "name": "stdout",
     "output_type": "stream",
     "text": [
      "Beta 0 is  2.0087939590229116\n",
      "Beta 1 is  -0.033462829011926494\n"
     ]
    },
    {
     "data": {
      "text/plain": [
       "[<matplotlib.lines.Line2D at 0x1d923e82eb8>]"
      ]
     },
     "execution_count": 127,
     "metadata": {},
     "output_type": "execute_result"
    },
    {
     "data": {
      "image/png": "[encoded data removed]",
      "text/plain": [
       "<Figure size 432x288 with 1 Axes>"
      ]
     },
     "metadata": {
      "needs_background": "light"
     },
     "output_type": "display_data"
    }
   ],
   "source": [
    "beta0 = (np.sum(y)*np.sum(X**2) -  np.sum(X)*np.sum(X*y))/ (n * np.sum(X**2) - np.sum(X)**2)\n",
    "beta1 = (n*np.sum(X*y) - np.sum(X)*np.sum(y)) / (n*np.sum(X**2) - np.sum(X)**2)\n",
    "print(\"Beta 0 is \", beta0)\n",
    "print(\"Beta 1 is \", beta1)\n",
    "y_pred = beta0 + beta1 * X\n",
    "plt.scatter(X,y)\n",
    "plt.plot( X,y_pred,'r')"
   ]
  },
  {
   "cell_type": "markdown",
   "metadata": {},
   "source": [
    "### When Beta0 is zero the predicted line goes down the standard deviation between the line and the points increaseas and gives a bad predicted line."
   ]
  },
  {
   "cell_type": "code",
   "execution_count": 125,
   "metadata": {},
   "outputs": [
    {
     "data": {
      "text/plain": [
       "[<matplotlib.lines.Line2D at 0x1d923e2f0b8>]"
      ]
     },
     "execution_count": 125,
     "metadata": {},
     "output_type": "execute_result"
    },
    {
     "data": {
      "image/png": "[encoded data removed]",
      "text/plain": [
       "<Figure size 432x288 with 1 Axes>"
      ]
     },
     "metadata": {
      "needs_background": "light"
     },
     "output_type": "display_data"
    }
   ],
   "source": [
    "beta0=0\n",
    "y_pred = beta0 + beta1 * X\n",
    "plt.scatter(X,y)\n",
    "plt.plot( X,y_pred,'r')"
   ]
  },
  {
   "cell_type": "markdown",
   "metadata": {},
   "source": [
    "### When beta1 is zero there is no significant change in the predicted line "
   ]
  },
  {
   "cell_type": "code",
   "execution_count": 128,
   "metadata": {},
   "outputs": [
    {
     "data": {
      "text/plain": [
       "[<matplotlib.lines.Line2D at 0x1d923eedc88>]"
      ]
     },
     "execution_count": 128,
     "metadata": {},
     "output_type": "execute_result"
    },
    {
     "data": {
      "image/png": "[encoded data removed]",
      "text/plain": [
       "<Figure size 432x288 with 1 Axes>"
      ]
     },
     "metadata": {
      "needs_background": "light"
     },
     "output_type": "display_data"
    }
   ],
   "source": [
    "beta1=0\n",
    "y_pred = beta0 + beta1 * X\n",
    "plt.scatter(X,y)\n",
    "plt.plot( X,y_pred,'r')"
   ]
  },
  {
   "cell_type": "raw",
   "metadata": {},
   "source": [
    "Using numpy.linalg lstsq there is very small difference between the values of beta0 and beta1\n"
   ]
  },
  {
   "cell_type": "code",
   "execution_count": 129,
   "metadata": {},
   "outputs": [
    {
     "name": "stdout",
     "output_type": "stream",
     "text": [
      "Beta 0 is  [2.00879396]\n",
      "Beta 1 is  [-0.03346283]\n"
     ]
    }
   ],
   "source": [
    "Z = np.vstack([X.T,(np.ones((len(X),1))).T]).T\n",
    "beta1,beta0 = np.linalg.lstsq(Z, y, rcond=None)[0]\n",
    "print(\"Beta 0 is \", beta0)\n",
    "print(\"Beta 1 is \", beta1)"
   ]
  },
  {
   "cell_type": "markdown",
   "metadata": {},
   "source": [
    "# 1.2.2 OLS using a Real dataset 6 Points"
   ]
  },
  {
   "cell_type": "code",
   "execution_count": 227,
   "metadata": {},
   "outputs": [
    {
     "data": {
      "text/html": [
       "<div>\n",
       "<style scoped>\n",
       "    .dataframe tbody tr th:only-of-type {\n",
       "        vertical-align: middle;\n",
       "    }\n",
       "\n",
       "    .dataframe tbody tr th {\n",
       "        vertical-align: top;\n",
       "    }\n",
       "\n",
       "    .dataframe thead th {\n",
       "        text-align: right;\n",
       "    }\n",
       "</style>\n",
       "<table border=\"1\" class=\"dataframe\">\n",
       "  <thead>\n",
       "    <tr style=\"text-align: right;\">\n",
       "      <th></th>\n",
       "      <th>mpg</th>\n",
       "      <th>cylinders</th>\n",
       "      <th>displacement</th>\n",
       "      <th>horsepower</th>\n",
       "      <th>weight</th>\n",
       "      <th>acceleration</th>\n",
       "      <th>year</th>\n",
       "      <th>origin</th>\n",
       "      <th>name</th>\n",
       "    </tr>\n",
       "  </thead>\n",
       "  <tbody>\n",
       "    <tr>\n",
       "      <th>0</th>\n",
       "      <td>18.0</td>\n",
       "      <td>8</td>\n",
       "      <td>307.0</td>\n",
       "      <td>130.0</td>\n",
       "      <td>3504.0</td>\n",
       "      <td>12.0</td>\n",
       "      <td>70</td>\n",
       "      <td>1</td>\n",
       "      <td>chevrolet chevelle malibu</td>\n",
       "    </tr>\n",
       "    <tr>\n",
       "      <th>1</th>\n",
       "      <td>15.0</td>\n",
       "      <td>8</td>\n",
       "      <td>350.0</td>\n",
       "      <td>165.0</td>\n",
       "      <td>3693.0</td>\n",
       "      <td>11.5</td>\n",
       "      <td>70</td>\n",
       "      <td>1</td>\n",
       "      <td>buick skylark 320</td>\n",
       "    </tr>\n",
       "    <tr>\n",
       "      <th>2</th>\n",
       "      <td>18.0</td>\n",
       "      <td>8</td>\n",
       "      <td>318.0</td>\n",
       "      <td>150.0</td>\n",
       "      <td>3436.0</td>\n",
       "      <td>11.0</td>\n",
       "      <td>70</td>\n",
       "      <td>1</td>\n",
       "      <td>plymouth satellite</td>\n",
       "    </tr>\n",
       "    <tr>\n",
       "      <th>3</th>\n",
       "      <td>16.0</td>\n",
       "      <td>8</td>\n",
       "      <td>304.0</td>\n",
       "      <td>150.0</td>\n",
       "      <td>3433.0</td>\n",
       "      <td>12.0</td>\n",
       "      <td>70</td>\n",
       "      <td>1</td>\n",
       "      <td>amc rebel sst</td>\n",
       "    </tr>\n",
       "    <tr>\n",
       "      <th>4</th>\n",
       "      <td>17.0</td>\n",
       "      <td>8</td>\n",
       "      <td>302.0</td>\n",
       "      <td>140.0</td>\n",
       "      <td>3449.0</td>\n",
       "      <td>10.5</td>\n",
       "      <td>70</td>\n",
       "      <td>1</td>\n",
       "      <td>ford torino</td>\n",
       "    </tr>\n",
       "  </tbody>\n",
       "</table>\n",
       "</div>"
      ],
      "text/plain": [
       "    mpg  cylinders  displacement horsepower  weight  acceleration  year  \\\n",
       "0  18.0          8         307.0      130.0  3504.0          12.0    70   \n",
       "1  15.0          8         350.0      165.0  3693.0          11.5    70   \n",
       "2  18.0          8         318.0      150.0  3436.0          11.0    70   \n",
       "3  16.0          8         304.0      150.0  3433.0          12.0    70   \n",
       "4  17.0          8         302.0      140.0  3449.0          10.5    70   \n",
       "\n",
       "   origin                       name  \n",
       "0       1  chevrolet chevelle malibu  \n",
       "1       1          buick skylark 320  \n",
       "2       1         plymouth satellite  \n",
       "3       1              amc rebel sst  \n",
       "4       1                ford torino  "
      ]
     },
     "execution_count": 227,
     "metadata": {},
     "output_type": "execute_result"
    }
   ],
   "source": [
    "\n",
    "filename = r\"E:\\Documents\\University of Hildesheim\\Machine learning lab\\lab1\\auto-mpg.data\"\n",
    "column_names = ['mpg', 'cylinders', 'displacement', 'horsepower', 'weight', 'acceleration', 'year', 'origin', 'name']\n",
    "auto_dat = pd.read_csv(filename, delim_whitespace=True, names=column_names)\n",
    "auto_dat.head(5)"
   ]
  },
  {
   "cell_type": "markdown",
   "metadata": {},
   "source": [
    "Split it into our uni-variate case ’Displacement’ as the\n",
    "independent variable and ’MPG’ as the dependant variable."
   ]
  },
  {
   "cell_type": "code",
   "execution_count": 228,
   "metadata": {},
   "outputs": [],
   "source": [
    "X=auto_dat['displacement']\n",
    "y=auto_dat['mpg']"
   ]
  },
  {
   "cell_type": "markdown",
   "metadata": {},
   "source": [
    "LEARN-SIMPLE-LINREG algorithm"
   ]
  },
  {
   "cell_type": "code",
   "execution_count": 229,
   "metadata": {},
   "outputs": [
    {
     "name": "stdout",
     "output_type": "stream",
     "text": [
      "Beta 0 is  -15.084665380984553\n",
      "Beta 1 is  0.14116358100240253\n"
     ]
    }
   ],
   "source": [
    "beta0 = (np.sum(y)*np.sum(X**2) -  np.sum(X)*np.sum(X*y))/ (n * np.sum(X**2) - np.sum(X)**2)\n",
    "beta1 = (n*np.sum(X*y) - np.sum(X)*np.sum(y)) / (n*np.sum(X**2) - np.sum(X)**2)\n",
    "print(\"Beta 0 is \", beta0)\n",
    "print(\"Beta 1 is \", beta1)"
   ]
  },
  {
   "cell_type": "markdown",
   "metadata": {},
   "source": [
    "PREDICT-SIMPLE-LINREG"
   ]
  },
  {
   "cell_type": "code",
   "execution_count": 230,
   "metadata": {},
   "outputs": [
    {
     "data": {
      "text/plain": [
       "[<matplotlib.lines.Line2D at 0x1d926b91438>]"
      ]
     },
     "execution_count": 230,
     "metadata": {},
     "output_type": "execute_result"
    },
    {
     "data": {
      "image/png": "[encoded data removed]",
      "text/plain": [
       "<Figure size 432x288 with 1 Axes>"
      ]
     },
     "metadata": {
      "needs_background": "light"
     },
     "output_type": "display_data"
    }
   ],
   "source": [
    "y_pred = beta0 + beta1 * X\n",
    "plt.scatter(X,y)\n",
    "plt.xlabel(\"mpg\")\n",
    "plt.ylabel(\"displacement\")\n",
    "plt.plot( X,y_pred,'r')"
   ]
  },
  {
   "cell_type": "markdown",
   "metadata": {},
   "source": [
    "### When Beta0 is zero the predicted line goes more towards the concentrated data points"
   ]
  },
  {
   "cell_type": "code",
   "execution_count": 226,
   "metadata": {},
   "outputs": [
    {
     "data": {
      "text/plain": [
       "[<matplotlib.lines.Line2D at 0x1d926f3dcf8>]"
      ]
     },
     "execution_count": 226,
     "metadata": {},
     "output_type": "execute_result"
    },
    {
     "data": {
      "image/png": "[encoded data removed]",
      "text/plain": [
       "<Figure size 432x288 with 1 Axes>"
      ]
     },
     "metadata": {
      "needs_background": "light"
     },
     "output_type": "display_data"
    }
   ],
   "source": [
    "beta0=0\n",
    "y_pred = beta0 + beta1 * X\n",
    "plt.scatter(X,y)\n",
    "plt.xlabel(\"mpg\")\n",
    "plt.ylabel(\"displacement\")\n",
    "plt.plot( X,y_pred,'r')"
   ]
  },
  {
   "cell_type": "markdown",
   "metadata": {},
   "source": [
    "### When beta1 is zero the line goes away from the data points gives a bad predicted line"
   ]
  },
  {
   "cell_type": "code",
   "execution_count": 231,
   "metadata": {},
   "outputs": [
    {
     "data": {
      "text/plain": [
       "[<matplotlib.lines.Line2D at 0x1d926b91f28>]"
      ]
     },
     "execution_count": 231,
     "metadata": {},
     "output_type": "execute_result"
    },
    {
     "data": {
      "image/png": "[encoded data removed]",
      "text/plain": [
       "<Figure size 432x288 with 1 Axes>"
      ]
     },
     "metadata": {
      "needs_background": "light"
     },
     "output_type": "display_data"
    }
   ],
   "source": [
    "beta1=0\n",
    "y_pred = beta0 + beta1 * X\n",
    "plt.xlabel(\"mpg\")\n",
    "plt.ylabel(\"displacement\")\n",
    "plt.scatter(X,y)\n",
    "plt.plot( X,y_pred,'r')"
   ]
  },
  {
   "cell_type": "markdown",
   "metadata": {},
   "source": [
    "### Cleaning the data by removing '?' and nan in the horsepower data"
   ]
  },
  {
   "cell_type": "code",
   "execution_count": 232,
   "metadata": {},
   "outputs": [],
   "source": [
    "auto_dat=auto_dat.dropna()\n",
    "auto_dat = auto_dat[auto_dat.horsepower != '?']"
   ]
  },
  {
   "cell_type": "code",
   "execution_count": 238,
   "metadata": {},
   "outputs": [],
   "source": [
    "X=auto_dat[['horsepower']].astype(float)\n",
    "y=auto_dat['mpg']\n",
    "from sklearn.preprocessing import StandardScaler\n",
    "from sklearn.model_selection import train_test_split\n",
    "X = StandardScaler().fit_transform(X)"
   ]
  },
  {
   "cell_type": "code",
   "execution_count": 239,
   "metadata": {},
   "outputs": [],
   "source": [
    "X_train,X_test,y_train,y_test=train_test_split(X,y,test_size = 0.33,random_state=324)\n",
    "regressor = LinearRegression().fit(X_train,y_train)\n",
    "y_pred = regressor.predict(X_test)"
   ]
  },
  {
   "cell_type": "markdown",
   "metadata": {},
   "source": [
    "### In this scatter plot we can understand that with the increase of mpg the horsepower decreases"
   ]
  },
  {
   "cell_type": "code",
   "execution_count": 240,
   "metadata": {},
   "outputs": [
    {
     "data": {
      "text/plain": [
       "[<matplotlib.lines.Line2D at 0x1d927fdc7f0>]"
      ]
     },
     "execution_count": 240,
     "metadata": {},
     "output_type": "execute_result"
    },
    {
     "data": {
      "image/png": "[encoded data removed]",
      "text/plain": [
       "<Figure size 432x288 with 1 Axes>"
      ]
     },
     "metadata": {
      "needs_background": "light"
     },
     "output_type": "display_data"
    }
   ],
   "source": [
    "plt.xlabel(\"mpg\")\n",
    "plt.ylabel(\"horsepower\")\n",
    "plt.scatter(X,y)\n",
    "plt.plot( X_test,y_pred,'r')"
   ]
  },
  {
   "cell_type": "code",
   "execution_count": 241,
   "metadata": {},
   "outputs": [],
   "source": [
    "X=auto_dat[['weight']].astype(float)\n",
    "y=auto_dat['mpg']\n",
    "from sklearn.preprocessing import StandardScaler\n",
    "from sklearn.model_selection import train_test_split\n",
    "X = StandardScaler().fit_transform(X)"
   ]
  },
  {
   "cell_type": "code",
   "execution_count": 242,
   "metadata": {},
   "outputs": [],
   "source": [
    "X_train,X_test,y_train,y_test=train_test_split(X,y,test_size = 0.33,random_state=324)\n",
    "regressor = LinearRegression().fit(X_train,y_train)\n",
    "y_pred = regressor.predict(X_test)"
   ]
  },
  {
   "cell_type": "markdown",
   "metadata": {},
   "source": [
    "### In this scatter plot we can understand that with the increase of mpg the weight also decreases"
   ]
  },
  {
   "cell_type": "code",
   "execution_count": 243,
   "metadata": {},
   "outputs": [
    {
     "data": {
      "text/plain": [
       "[<matplotlib.lines.Line2D at 0x1d92803a080>]"
      ]
     },
     "execution_count": 243,
     "metadata": {},
     "output_type": "execute_result"
    },
    {
     "data": {
      "image/png": "[encoded data removed]",
      "text/plain": [
       "<Figure size 432x288 with 1 Axes>"
      ]
     },
     "metadata": {
      "needs_background": "light"
     },
     "output_type": "display_data"
    }
   ],
   "source": [
    "plt.xlabel(\"mpg\")\n",
    "plt.ylabel(\"weight\")\n",
    "plt.scatter(X,y)\n",
    "plt.plot( X_test,y_pred,'r')"
   ]
  },
  {
   "cell_type": "code",
   "execution_count": 244,
   "metadata": {},
   "outputs": [],
   "source": [
    "X=auto_dat[['acceleration']].astype(float)\n",
    "y=auto_dat['mpg']\n",
    "from sklearn.preprocessing import StandardScaler\n",
    "from sklearn.model_selection import train_test_split\n",
    "X = StandardScaler().fit_transform(X)"
   ]
  },
  {
   "cell_type": "code",
   "execution_count": 245,
   "metadata": {},
   "outputs": [],
   "source": [
    "X_train,X_test,y_train,y_test=train_test_split(X,y,test_size = 0.33,random_state=324)\n",
    "regressor = LinearRegression().fit(X_train,y_train)\n",
    "y_pred = regressor.predict(X_test)"
   ]
  },
  {
   "cell_type": "markdown",
   "metadata": {},
   "source": [
    "### In this scatter plot we can understand that with the increase of mpg the acceleration increases"
   ]
  },
  {
   "cell_type": "code",
   "execution_count": 246,
   "metadata": {},
   "outputs": [
    {
     "data": {
      "text/plain": [
       "[<matplotlib.lines.Line2D at 0x1d92803a7f0>]"
      ]
     },
     "execution_count": 246,
     "metadata": {},
     "output_type": "execute_result"
    },
    {
     "data": {
      "image/png": "[encoded data removed]",
      "text/plain": [
       "<Figure size 432x288 with 1 Axes>"
      ]
     },
     "metadata": {
      "needs_background": "light"
     },
     "output_type": "display_data"
    }
   ],
   "source": [
    "plt.xlabel(\"mpg\")\n",
    "plt.ylabel(\"acceleration\")\n",
    "plt.scatter(X,y)\n",
    "plt.plot( X_test,y_pred,'r')"
   ]
  },
  {
   "cell_type": "code",
   "execution_count": null,
   "metadata": {},
   "outputs": [],
   "source": []
  }
 ],
 "metadata": {
  "kernelspec": {
   "display_name": "Python 3",
   "language": "python",
   "name": "python3"
  },
  "language_info": {
   "codemirror_mode": {
    "name": "ipython",
    "version": 3
   },
   "file_extension": ".py",
   "mimetype": "text/x-python",
   "name": "python",
   "nbconvert_exporter": "python",
   "pygments_lexer": "ipython3",
   "version": "3.6.8"
  }
 },
 "nbformat": 4,
 "nbformat_minor": 2
}
